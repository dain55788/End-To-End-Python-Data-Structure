{
 "cells": [
  {
   "cell_type": "markdown",
   "id": "3038ef66",
   "metadata": {},
   "source": [
    "## 1. Load a Pandas dataframe to a SQLite3 database object using to_sql()"
   ]
  },
  {
   "cell_type": "code",
   "execution_count": null,
   "id": "0313d707",
   "metadata": {},
   "outputs": [],
   "source": [
    "# df.to_sql(table_name, sql_connection, if_exists = 'replace', index = False)"
   ]
  },
  {
   "cell_type": "markdown",
   "id": "76983638",
   "metadata": {},
   "source": [
    "## 2. Pandas function read_sql() to query a database table."
   ]
  },
  {
   "cell_type": "code",
   "execution_count": 2,
   "id": "a972aa84",
   "metadata": {},
   "outputs": [],
   "source": [
    "# df = pandas.read_sql(query_statement, sql_connection)"
   ]
  },
  {
   "cell_type": "code",
   "execution_count": 5,
   "id": "4a68eea5",
   "metadata": {},
   "outputs": [],
   "source": [
    "import pandas as pd\n",
    "import sqlite3"
   ]
  },
  {
   "cell_type": "code",
   "execution_count": 7,
   "id": "76918b74",
   "metadata": {},
   "outputs": [
    {
     "name": "stdout",
     "output_type": "stream",
     "text": [
      "Table is ready\n",
      "SELECT * FROM INSTRUCTOR\n",
      "    ID    FNAME      LNAME      CITY CCODE\n",
      "0    1      Rav      Ahuja   TORONTO    CA\n",
      "1    2     Raul      Chong   Markham    CA\n",
      "2    3     Hima  Vasudevan   Chicago    US\n",
      "3    4     John     Thomas  Illinois    US\n",
      "4    5    Alice      James  Illinois    US\n",
      "5    6    Steve      Wells  Illinois    US\n",
      "6    7  Santosh      Kumar  Illinois    US\n",
      "7    8    Ahmed    Hussain  Illinois    US\n",
      "8    9    Nancy      Allen  Illinois    US\n",
      "9   10     Mary     Thomas  Illinois    US\n",
      "10  11  Bharath      Gupta  Illinois    US\n",
      "11  12   Andrea      Jones  Illinois    US\n",
      "12  13      Ann      Jacob  Illinois    US\n",
      "13  14     Amit      Kumar  NewDelhi    IN\n",
      "Data appended successfully\n",
      "Database after appending: \n",
      "     ID    FNAME      LNAME      CITY CCODE\n",
      "0     1      Rav      Ahuja   TORONTO    CA\n",
      "1     2     Raul      Chong   Markham    CA\n",
      "2     3     Hima  Vasudevan   Chicago    US\n",
      "3     4     John     Thomas  Illinois    US\n",
      "4     5    Alice      James  Illinois    US\n",
      "5     6    Steve      Wells  Illinois    US\n",
      "6     7  Santosh      Kumar  Illinois    US\n",
      "7     8    Ahmed    Hussain  Illinois    US\n",
      "8     9    Nancy      Allen  Illinois    US\n",
      "9    10     Mary     Thomas  Illinois    US\n",
      "10   11  Bharath      Gupta  Illinois    US\n",
      "11   12   Andrea      Jones  Illinois    US\n",
      "12   13      Ann      Jacob  Illinois    US\n",
      "13   14     Amit      Kumar  NewDelhi    IN\n",
      "14  100     John        Doe     Paris    FR\n"
     ]
    }
   ],
   "source": [
    "conn = sqlite3.connect('STAFF.db')\n",
    "table_name = 'INSTRUCTOR'\n",
    "attribute_list = ['ID', 'FNAME', 'LNAME', 'CITY', 'CCODE']\n",
    "file_path = 'INSTRUCTOR.csv'\n",
    "df = pd.read_csv(file_path, names = attribute_list)\n",
    "\n",
    "# to_sql() : load the csv data directly into the databases.\n",
    "df.to_sql(table_name, conn, if_exists = 'replace', index =False)\n",
    "print('Table is ready')\n",
    "\n",
    "# Run basic queries on data:\n",
    "query_statement = f\"SELECT * FROM {table_name}\"\n",
    "query_output = pd.read_sql(query_statement, conn)\n",
    "print(query_statement)\n",
    "print(query_output)\n",
    "\n",
    "# Append new data into current databases:\n",
    "data_dict = {'ID' : [100],\n",
    "            'FNAME' : ['John'],\n",
    "            'LNAME' : ['Doe'],\n",
    "            'CITY' : ['Paris'],\n",
    "            'CCODE' : ['FR']}\n",
    "data_append = pd.DataFrame(data_dict)\n",
    "\n",
    "data_append.to_sql(table_name, conn, if_exists = 'append', index =False)\n",
    "print('Data appended successfully')\n",
    "print(\"Database after appending: \")\n",
    "query_statement = f\"SELECT * FROM {table_name}\"\n",
    "query_output = pd.read_sql(query_statement, conn)\n",
    "print(query_output)\n",
    "# close the connection to the databases:\n",
    "conn.close()"
   ]
  },
  {
   "cell_type": "code",
   "execution_count": null,
   "id": "ff1a8339",
   "metadata": {},
   "outputs": [],
   "source": []
  }
 ],
 "metadata": {
  "kernelspec": {
   "display_name": "Python 3 (ipykernel)",
   "language": "python",
   "name": "python3"
  },
  "language_info": {
   "codemirror_mode": {
    "name": "ipython",
    "version": 3
   },
   "file_extension": ".py",
   "mimetype": "text/x-python",
   "name": "python",
   "nbconvert_exporter": "python",
   "pygments_lexer": "ipython3",
   "version": "3.11.5"
  }
 },
 "nbformat": 4,
 "nbformat_minor": 5
}
