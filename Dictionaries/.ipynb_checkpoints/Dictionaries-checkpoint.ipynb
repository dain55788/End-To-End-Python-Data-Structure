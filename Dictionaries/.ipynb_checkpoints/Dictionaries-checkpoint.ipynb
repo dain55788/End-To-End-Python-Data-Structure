{
 "cells": [
  {
   "cell_type": "markdown",
   "id": "0a4a6dfb",
   "metadata": {},
   "source": [
    "## Dictionaries in Python"
   ]
  },
  {
   "cell_type": "markdown",
   "id": "aac50866",
   "metadata": {},
   "source": [
    "### Think of Dictionaries are \"bags\"of value, each with its own label ( key - value)"
   ]
  },
  {
   "cell_type": "code",
   "execution_count": 4,
   "id": "11377e8a",
   "metadata": {},
   "outputs": [],
   "source": [
    "animal = dict()"
   ]
  },
  {
   "cell_type": "code",
   "execution_count": 5,
   "id": "9ee1bfdf",
   "metadata": {},
   "outputs": [
    {
     "name": "stdout",
     "output_type": "stream",
     "text": [
      "{'cat': 3, 'dog': 5, 'insect': 'ant'}\n"
     ]
    }
   ],
   "source": [
    "animal['cat'] = 3\n",
    "animal['dog'] = 5\n",
    "animal['insect'] = 'ant'\n",
    "print(animal)"
   ]
  },
  {
   "cell_type": "code",
   "execution_count": 9,
   "id": "1674c9b3",
   "metadata": {},
   "outputs": [
    {
     "name": "stdout",
     "output_type": "stream",
     "text": [
      "ant\n"
     ]
    }
   ],
   "source": [
    "print(animal['insect'])"
   ]
  },
  {
   "cell_type": "code",
   "execution_count": 10,
   "id": "b2b37831",
   "metadata": {},
   "outputs": [
    {
     "name": "stdout",
     "output_type": "stream",
     "text": [
      "7\n"
     ]
    }
   ],
   "source": [
    "animal['cat'] = animal['cat'] + 4\n",
    "print(animal['cat'])"
   ]
  },
  {
   "cell_type": "markdown",
   "id": "b78ef05f",
   "metadata": {},
   "source": [
    "### Or initialize a dictionary like this :"
   ]
  },
  {
   "cell_type": "code",
   "execution_count": 29,
   "id": "fecf838a",
   "metadata": {},
   "outputs": [
    {
     "name": "stdout",
     "output_type": "stream",
     "text": [
      "{'mathematics': 'Statistics', 'certificate': 'Google Data Analytics', 'course': 'Stanford Introduction to Statistics'}\n"
     ]
    }
   ],
   "source": [
    "my_favor = {\n",
    "    'mathematics' : 'Statistics',\n",
    "    'certificate' : 'Google Data Analytics',\n",
    "    'course' : 'Stanford Introduction to Statistics'\n",
    "}\n",
    "print(my_favor)"
   ]
  },
  {
   "cell_type": "code",
   "execution_count": 30,
   "id": "63b80900",
   "metadata": {},
   "outputs": [
    {
     "name": "stdout",
     "output_type": "stream",
     "text": [
      "Statistics\n",
      "Google Data Analytics\n",
      "Stanford Introduction to Statistics\n"
     ]
    }
   ],
   "source": [
    "# FOR LOOP to iterate all values : \n",
    "for value in my_favor.values():\n",
    "    print(value)"
   ]
  },
  {
   "cell_type": "code",
   "execution_count": 31,
   "id": "825cca95",
   "metadata": {},
   "outputs": [
    {
     "name": "stdout",
     "output_type": "stream",
     "text": [
      "mathematics\n",
      "certificate\n",
      "course\n"
     ]
    }
   ],
   "source": [
    "# FOR LOOP to iterate all keys:\n",
    "for key in my_favor.keys():\n",
    "    print(key)"
   ]
  },
  {
   "cell_type": "code",
   "execution_count": 32,
   "id": "e875c5f3",
   "metadata": {},
   "outputs": [
    {
     "name": "stdout",
     "output_type": "stream",
     "text": [
      "('mathematics', 'Statistics')\n",
      "('certificate', 'Google Data Analytics')\n",
      "('course', 'Stanford Introduction to Statistics')\n",
      "==============\n",
      "Key : mathematics, value: Statistics\n",
      "Key : certificate, value: Google Data Analytics\n",
      "Key : course, value: Stanford Introduction to Statistics\n"
     ]
    }
   ],
   "source": [
    "# FOR LOOP to iterate all items(key + value) :\n",
    "for items in my_favor.items():\n",
    "    print(items)\n",
    "    \n",
    "print('==============')\n",
    "# OR\n",
    "for keys, values in my_favor.items():\n",
    "    print(f'Key : {keys}, value: {values}') # remember the f"
   ]
  },
  {
   "cell_type": "code",
   "execution_count": 33,
   "id": "38444642",
   "metadata": {},
   "outputs": [
    {
     "name": "stdout",
     "output_type": "stream",
     "text": [
      "My favourite certificate is Google Data Analytics and mathematics is Statistics\n"
     ]
    }
   ],
   "source": [
    "# GET METHOD returns the value of an item with the given key\n",
    "print(f'My favourite certificate is {my_favor.get(\"certificate\")} and mathematics is {my_favor.get(\"mathematics\")}')"
   ]
  },
  {
   "cell_type": "code",
   "execution_count": 45,
   "id": "349ebed1",
   "metadata": {},
   "outputs": [
    {
     "data": {
      "text/plain": [
       "{'mathematics': 'Statistics',\n",
       " 'certificate': 'Google Data Analytics',\n",
       " 'course': 'Stanford Introduction to Statistics',\n",
       " 'has a degree': True}"
      ]
     },
     "execution_count": 45,
     "metadata": {},
     "output_type": "execute_result"
    }
   ],
   "source": [
    "# Add an item using setdefault():\n",
    "if 'has a degree' not in my_favor.keys():\n",
    "    my_favor.setdefault('has a degree', True)\n",
    "my_favor"
   ]
  },
  {
   "cell_type": "code",
   "execution_count": 46,
   "id": "f44e0a2a",
   "metadata": {},
   "outputs": [
    {
     "data": {
      "text/plain": [
       "{'mathematics': 'Statistics',\n",
       " 'certificate': 'Google Data Analytics',\n",
       " 'course': 'Stanford Introduction to Statistics'}"
      ]
     },
     "execution_count": 46,
     "metadata": {},
     "output_type": "execute_result"
    }
   ],
   "source": [
    "# The pop() method removes and returns an item based on a given key:\n",
    "my_favor.pop('has a degree')\n",
    "my_favor\n",
    "# The popitem() method removes the last item in a dictionary and returns it:\n",
    "my_favor.setdefault('has a degree', True)\n",
    "my_favor.popitem() #remove 'has a degree'\n",
    "my_favor"
   ]
  },
  {
   "cell_type": "code",
   "execution_count": 47,
   "id": "cb8d7f13",
   "metadata": {},
   "outputs": [
    {
     "data": {
      "text/plain": [
       "{'mathematics': 'Statistics',\n",
       " 'certificate': 'Google Data Analytics',\n",
       " 'course': 'Stanford Introduction to Statistics'}"
      ]
     },
     "execution_count": 47,
     "metadata": {},
     "output_type": "execute_result"
    }
   ],
   "source": [
    "# The del() method removes an item based on a given key.\n",
    "my_favor.setdefault('degree', True)\n",
    "del my_favor['degree']\n",
    "my_favor"
   ]
  },
  {
   "cell_type": "code",
   "execution_count": 49,
   "id": "064c99ef",
   "metadata": {},
   "outputs": [
    {
     "name": "stdout",
     "output_type": "stream",
     "text": [
      "Enter a line of the text : \n",
      "hello everyone, my name is dainy, welcome guys to my youtube channel, here I am gonna make some tutorials about technical gadget, are you ready for my video? I am dainy, so let's get started!\n",
      "Words :  ['hello', 'everyone,', 'my', 'name', 'is', 'dainy,', 'welcome', 'guys', 'to', 'my', 'youtube', 'channel,', 'here', 'I', 'am', 'gonna', 'make', 'some', 'tutorials', 'about', 'technical', 'gadget,', 'are', 'you', 'ready', 'for', 'my', 'video?', 'I', 'am', 'dainy,', 'so', \"let's\", 'get', 'started!']\n",
      "Counting...\n",
      "Counts :  {'hello': 1, 'everyone,': 1, 'my': 3, 'name': 1, 'is': 1, 'dainy,': 2, 'welcome': 1, 'guys': 1, 'to': 1, 'youtube': 1, 'channel,': 1, 'here': 1, 'I': 2, 'am': 2, 'gonna': 1, 'make': 1, 'some': 1, 'tutorials': 1, 'about': 1, 'technical': 1, 'gadget,': 1, 'are': 1, 'you': 1, 'ready': 1, 'for': 1, 'video?': 1, 'so': 1, \"let's\": 1, 'get': 1, 'started!': 1}\n"
     ]
    }
   ],
   "source": [
    "# Counting pattern using get() method:\n",
    "counts = dict()\n",
    "print('Enter a line of the text : ')\n",
    "line = input('')\n",
    "words = line.split()\n",
    "print('Words : ', words)\n",
    "print('Counting...')\n",
    "for word in words:\n",
    "    counts[word] = counts.get(word, 0) + 1\n",
    "print('Counts : ', counts)"
   ]
  },
  {
   "cell_type": "code",
   "execution_count": 53,
   "id": "55c17f58",
   "metadata": {},
   "outputs": [
    {
     "name": "stdout",
     "output_type": "stream",
     "text": [
      "Enter file name : dictData.txt\n"
     ]
    },
    {
     "ename": "TypeError",
     "evalue": "'int' object is not subscriptable",
     "output_type": "error",
     "traceback": [
      "\u001b[1;31m---------------------------------------------------------------------------\u001b[0m",
      "\u001b[1;31mTypeError\u001b[0m                                 Traceback (most recent call last)",
      "Cell \u001b[1;32mIn[53], line 11\u001b[0m\n\u001b[0;32m      9\u001b[0m     \u001b[38;5;28;01mfor\u001b[39;00m word \u001b[38;5;129;01min\u001b[39;00m words:\n\u001b[0;32m     10\u001b[0m         counts[word] \u001b[38;5;241m=\u001b[39m counts\u001b[38;5;241m.\u001b[39mget(word, \u001b[38;5;241m0\u001b[39m) \u001b[38;5;241m+\u001b[39m \u001b[38;5;241m1\u001b[39m\n\u001b[1;32m---> 11\u001b[0m \u001b[38;5;28mprint\u001b[39m(\u001b[43mcount\u001b[49m\u001b[43m[\u001b[49m\u001b[38;5;124;43m'\u001b[39;49m\u001b[38;5;124;43mmy\u001b[39;49m\u001b[38;5;124;43m'\u001b[39;49m\u001b[43m]\u001b[49m)\n\u001b[0;32m     12\u001b[0m big_count \u001b[38;5;241m=\u001b[39m \u001b[38;5;28;01mNone\u001b[39;00m\n\u001b[0;32m     13\u001b[0m bid_word \u001b[38;5;241m=\u001b[39m \u001b[38;5;28;01mNone\u001b[39;00m\n",
      "\u001b[1;31mTypeError\u001b[0m: 'int' object is not subscriptable"
     ]
    }
   ],
   "source": [
    "# Practice using dictionaries working with files to count :\n",
    "name = input('Enter file name : ')\n",
    "fhand = open(name)\n",
    "\n",
    "counts = dict()\n",
    "for line in fhand:\n",
    "    line = line.rstrip()\n",
    "    words = line.split()\n",
    "    for word in words:\n",
    "        counts[word] = counts.get(word, 0) + 1\n",
    "big_count = None\n",
    "bid_word = None\n",
    "for word, count in counts.items():\n",
    "    if big_count is None or count > big_count:\n",
    "        big_word = word\n",
    "        big_count = count\n",
    "print(big_word, big_count)"
   ]
  },
  {
   "cell_type": "code",
   "execution_count": 54,
   "id": "b836e233",
   "metadata": {},
   "outputs": [
    {
     "name": "stdout",
     "output_type": "stream",
     "text": [
      "-1\n"
     ]
    }
   ],
   "source": [
    "stuff = dict()\n",
    "print(stuff.get('candy',-1))"
   ]
  },
  {
   "cell_type": "code",
   "execution_count": null,
   "id": "df7c6768",
   "metadata": {},
   "outputs": [],
   "source": [
    "# Merge two dictionaries:\n",
    "dict_a = {'a': 1, 'b': 2}\n",
    "dict_b = {'b': 3, 'c': 4}\n",
    "dict_c = {**dict_a, **dict_b}\n",
    "dict_c\n",
    "# {'a': 1, 'b': 3, 'c': 4}"
   ]
  },
  {
   "cell_type": "code",
   "execution_count": 1,
   "id": "f9a3b6fb",
   "metadata": {},
   "outputs": [
    {
     "ename": "SyntaxError",
     "evalue": "cannot assign to literal here. Maybe you meant '==' instead of '='? (3293032332.py, line 1)",
     "output_type": "error",
     "traceback": [
      "\u001b[1;36m  Cell \u001b[1;32mIn[1], line 1\u001b[1;36m\u001b[0m\n\u001b[1;33m    1=2\u001b[0m\n\u001b[1;37m    ^\u001b[0m\n\u001b[1;31mSyntaxError\u001b[0m\u001b[1;31m:\u001b[0m cannot assign to literal here. Maybe you meant '==' instead of '='?\n"
     ]
    }
   ],
   "source": [
    "1=2"
   ]
  },
  {
   "cell_type": "code",
   "execution_count": null,
   "id": "be0a8ca9",
   "metadata": {},
   "outputs": [],
   "source": []
  }
 ],
 "metadata": {
  "kernelspec": {
   "display_name": "Python 3 (ipykernel)",
   "language": "python",
   "name": "python3"
  },
  "language_info": {
   "codemirror_mode": {
    "name": "ipython",
    "version": 3
   },
   "file_extension": ".py",
   "mimetype": "text/x-python",
   "name": "python",
   "nbconvert_exporter": "python",
   "pygments_lexer": "ipython3",
   "version": "3.11.5"
  }
 },
 "nbformat": 4,
 "nbformat_minor": 5
}
