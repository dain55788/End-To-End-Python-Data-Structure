{
 "cells": [
  {
   "cell_type": "markdown",
   "id": "3a071697",
   "metadata": {},
   "source": [
    "# Practice using Queue in Python"
   ]
  },
  {
   "cell_type": "markdown",
   "id": "1e892083",
   "metadata": {},
   "source": [
    "## Like a stack, the queue is a linear data structure that stores items in a First In First Out (FIFO) manner."
   ]
  },
  {
   "cell_type": "markdown",
   "id": "1477f69e",
   "metadata": {},
   "source": [
    "## Enqueue: Adds an item to the queue. Time Complexity : O(1)\n",
    "## Dequeue: Removes an item from the queue. Time Complexity : O(1)\n",
    "## Front: Get the front item from queue – Time Complexity : O(1)\n",
    "## Rear: Get the last item from queue – Time Complexity : O(1)"
   ]
  },
  {
   "cell_type": "markdown",
   "id": "439bb86f",
   "metadata": {},
   "source": [
    "## Implement a Queue in Python\n",
    "## List, Collections.deque, queue.Queue "
   ]
  },
  {
   "cell_type": "markdown",
   "id": "a4b7edda",
   "metadata": {},
   "source": [
    "## List, Collections.deque ---> Like Stack"
   ]
  },
  {
   "cell_type": "code",
   "execution_count": 8,
   "id": "89baf097",
   "metadata": {},
   "outputs": [
    {
     "name": "stdout",
     "output_type": "stream",
     "text": [
      "Initial queue\n",
      "['a', 'b', 'c']\n",
      "\n",
      "Elements dequeued from queue\n",
      "a\n",
      "b\n",
      "c\n",
      "\n",
      "Queue after removing elements\n",
      "[]\n"
     ]
    }
   ],
   "source": [
    "# Example using List:\n",
    "queue = []\n",
    "queue.append('a')\n",
    "queue.append('b')\n",
    "queue.append('c')\n",
    "print(\"Initial queue\")\n",
    "print(queue)\n",
    "print(\"\\nElements dequeued from queue\")\n",
    "print(queue.pop(0))\n",
    "print(queue.pop(0))\n",
    "print(queue.pop(0))\n",
    "print(\"\\nQueue after removing elements\")\n",
    "print(queue)"
   ]
  },
  {
   "cell_type": "code",
   "execution_count": 3,
   "id": "c8b13e73",
   "metadata": {},
   "outputs": [
    {
     "name": "stdout",
     "output_type": "stream",
     "text": [
      "Initial queue\n",
      "deque(['a', 'b', 'c'])\n",
      "\n",
      "Elements dequeued from the queue\n",
      "a\n",
      "b\n",
      "c\n",
      "\n",
      "Queue after removing elements\n",
      "deque([])\n"
     ]
    }
   ],
   "source": [
    "# Example using Collections.deque\n",
    "from collections import deque\n",
    "q = deque()\n",
    "q.append('a')\n",
    "q.append('b')\n",
    "q.append('c')\n",
    "print(\"Initial queue\")\n",
    "print(q)\n",
    "print(\"\\nElements dequeued from the queue\")\n",
    "print(q.popleft())\n",
    "print(q.popleft())\n",
    "print(q.popleft())\n",
    " \n",
    "print(\"\\nQueue after removing elements\")\n",
    "print(q)"
   ]
  },
  {
   "cell_type": "markdown",
   "id": "1ad675ae",
   "metadata": {},
   "source": [
    "## queue.Queue\n",
    "### maxsize – Number of items allowed in the queue.\n",
    "### empty() – Return True if the queue is empty, False otherwise.\n",
    "### full() – Return True if there are maxsize items in the queue. If the queue was initialized with maxsize=0 (the default), then full() never returns True.\n",
    "### get() – Remove and return an item from the queue. If queue is empty, wait until an item is available.\n",
    "### get_nowait() – Return an item if one is immediately available, else raise QueueEmpty.\n",
    "### put(item) – Put an item into the queue. If the queue is full, wait until a free slot is available before adding the item.\n",
    "### put_nowait(item) – Put an item into the queue without blocking. If no free slot is immediately available, raise QueueFull.\n",
    "### qsize() – Return the number of items in the queue."
   ]
  },
  {
   "cell_type": "code",
   "execution_count": 1,
   "id": "c306a968",
   "metadata": {},
   "outputs": [
    {
     "name": "stdout",
     "output_type": "stream",
     "text": [
      "0\n",
      "\n",
      "Full:  False\n",
      "\n",
      "Full:  True\n",
      "<queue.Queue object at 0x00000244D0C67AD0>\n",
      "\n",
      "Elements dequeued from the queue\n",
      "a\n",
      "b\n",
      "c\n",
      "\n",
      "Empty:  False\n"
     ]
    }
   ],
   "source": [
    "# Implementation using queue.Queue\n",
    "from queue import Queue\n",
    "q = Queue(maxsize = 11)\n",
    "print(q.qsize()) \n",
    "q.put('a')\n",
    "q.put('b')\n",
    "q.put('c')\n",
    "print(\"\\nFull: \", q.full())\n",
    "\n",
    "for i in range(1, 9):\n",
    "    q.put(i)\n",
    "\n",
    "print(\"\\nFull: \", q.full()) #queue now has full of 11 items.\n",
    "print(q)\n",
    "print(\"\\nElements dequeued from the queue\")\n",
    "print(q.get())\n",
    "print(q.get())\n",
    "print(q.get())\n",
    "print(\"\\nEmpty: \", q.empty())"
   ]
  },
  {
   "cell_type": "markdown",
   "id": "b5d35eee",
   "metadata": {},
   "source": [
    "## Priority queue:\n",
    "### Priority Queue is an extension of the queue with the following properties :\n",
    "### 1.In Queue, the oldest element is dequeued first. While, in Priority Queue, an element based on the highest priority is dequeued.\n",
    "### 2. When elements are popped out of a priority queue the result obtained is either sorted in Increasing order or in Decreasing Order. While, when elements are popped from a simple queue, a FIFO order of data is obtained in the result."
   ]
  },
  {
   "cell_type": "code",
   "execution_count": 3,
   "id": "7792c280",
   "metadata": {},
   "outputs": [],
   "source": [
    "# A simple implementation of Priority Queue\n",
    "# using Queue.\n",
    "class PriorityQueue(object):\n",
    "    def __init__(self):\n",
    "        self.queue = []\n",
    " \n",
    "    def __str__(self):\n",
    "        return ' '.join([str(i) for i in self.queue])\n",
    "    \n",
    "    # checking if the queue is empty\n",
    "    def isEmpty(self):\n",
    "        return len(self.queue) == 0\n",
    " \n",
    "    # inserting an element in the queue\n",
    "    def insert(self, data):\n",
    "        self.queue.append(data)\n",
    "        \n",
    "    # deleting a value in queue based on Priority\n",
    "    def delete(self):\n",
    "        try:\n",
    "            max_val = 0\n",
    "            for i in range(len(self.queue)):\n",
    "                if self.queue[i] > self.queue[max_val]:\n",
    "                    max_val = i\n",
    "            item = self.queue[max_val]\n",
    "            del self.queue[max_val]\n",
    "            return item\n",
    "        except IndexError:\n",
    "            print()\n",
    "            exit()"
   ]
  },
  {
   "cell_type": "code",
   "execution_count": 8,
   "id": "589a64c1",
   "metadata": {},
   "outputs": [
    {
     "name": "stdout",
     "output_type": "stream",
     "text": [
      "Initial list after inserting : \n",
      "12 1 14 7\n",
      "Elements popped out of queue :\n",
      "14\n",
      "12\n",
      "7\n",
      "1\n"
     ]
    }
   ],
   "source": [
    "myQueue = PriorityQueue()\n",
    "myQueue.insert(12)\n",
    "myQueue.insert(1)\n",
    "myQueue.insert(14)\n",
    "myQueue.insert(7)\n",
    "print(\"Initial list after inserting : \")\n",
    "print(myQueue)\n",
    "\n",
    "print(\"Elements popped out of queue :\")\n",
    "while not myQueue.isEmpty():\n",
    "    print(myQueue.delete())\n"
   ]
  },
  {
   "cell_type": "code",
   "execution_count": null,
   "id": "2d8793cc",
   "metadata": {},
   "outputs": [],
   "source": []
  }
 ],
 "metadata": {
  "kernelspec": {
   "display_name": "Python 3 (ipykernel)",
   "language": "python",
   "name": "python3"
  },
  "language_info": {
   "codemirror_mode": {
    "name": "ipython",
    "version": 3
   },
   "file_extension": ".py",
   "mimetype": "text/x-python",
   "name": "python",
   "nbconvert_exporter": "python",
   "pygments_lexer": "ipython3",
   "version": "3.11.5"
  }
 },
 "nbformat": 4,
 "nbformat_minor": 5
}
