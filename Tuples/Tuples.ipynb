{
 "cells": [
  {
   "cell_type": "markdown",
   "id": "efab63f3",
   "metadata": {},
   "source": [
    "## Tuples data structure"
   ]
  },
  {
   "cell_type": "code",
   "execution_count": 1,
   "id": "dcfb7465",
   "metadata": {},
   "outputs": [],
   "source": [
    "# The key difference between tuples and lists is that,\n",
    "# while tuples are immutable objects, lists are mutable. \n",
    "# This means that tuples cannot be changed while the lists can be modified. \n",
    "# Tuples are more memory efficient than the lists."
   ]
  },
  {
   "cell_type": "code",
   "execution_count": 2,
   "id": "b0e62e57",
   "metadata": {},
   "outputs": [
    {
     "name": "stdout",
     "output_type": "stream",
     "text": [
      "Kujoh Jolyne\n"
     ]
    }
   ],
   "source": [
    "my_friends = ('Joseph Joestar', 'Kujoh Jotaro', 'Kujoh Jolyne', 'Giorno Giovanna')\n",
    "print(my_friends[2])"
   ]
  },
  {
   "cell_type": "code",
   "execution_count": 4,
   "id": "3a08c22a",
   "metadata": {},
   "outputs": [
    {
     "data": {
      "text/plain": [
       "['Bob', 'Sally', 'Johny', 'Jonathan']"
      ]
     },
     "execution_count": 4,
     "metadata": {},
     "output_type": "execute_result"
    }
   ],
   "source": [
    "# CONVERTING between list and tuple:\n",
    "tuple(['cat', 'dog', 'meo meo'])\n",
    "list(('Bob', 'Sally', 'Johny', 'Jonathan'))"
   ]
  },
  {
   "cell_type": "code",
   "execution_count": 6,
   "id": "2078efe5",
   "metadata": {},
   "outputs": [
    {
     "data": {
      "text/plain": [
       "['__add__',\n",
       " '__class__',\n",
       " '__class_getitem__',\n",
       " '__contains__',\n",
       " '__delattr__',\n",
       " '__dir__',\n",
       " '__doc__',\n",
       " '__eq__',\n",
       " '__format__',\n",
       " '__ge__',\n",
       " '__getattribute__',\n",
       " '__getitem__',\n",
       " '__getnewargs__',\n",
       " '__getstate__',\n",
       " '__gt__',\n",
       " '__hash__',\n",
       " '__init__',\n",
       " '__init_subclass__',\n",
       " '__iter__',\n",
       " '__le__',\n",
       " '__len__',\n",
       " '__lt__',\n",
       " '__mul__',\n",
       " '__ne__',\n",
       " '__new__',\n",
       " '__reduce__',\n",
       " '__reduce_ex__',\n",
       " '__repr__',\n",
       " '__rmul__',\n",
       " '__setattr__',\n",
       " '__sizeof__',\n",
       " '__str__',\n",
       " '__subclasshook__',\n",
       " 'count',\n",
       " 'index']"
      ]
     },
     "execution_count": 6,
     "metadata": {},
     "output_type": "execute_result"
    }
   ],
   "source": [
    "# tuple's METHOD\n",
    "t = tuple()\n",
    "dir(t)"
   ]
  },
  {
   "cell_type": "code",
   "execution_count": 7,
   "id": "d3e83cfd",
   "metadata": {},
   "outputs": [
    {
     "name": "stdout",
     "output_type": "stream",
     "text": [
      "dict_items([('dog', 4), ('cat', 6)])\n"
     ]
    }
   ],
   "source": [
    "# TUPLES and DICTIONARIES:\n",
    "d = dict()\n",
    "d['dog'] = 4\n",
    "d['cat'] = 6\n",
    "t = d.items()\n",
    "print(t)"
   ]
  },
  {
   "cell_type": "code",
   "execution_count": 8,
   "id": "62d5f98f",
   "metadata": {},
   "outputs": [
    {
     "data": {
      "text/plain": [
       "True"
      ]
     },
     "execution_count": 8,
     "metadata": {},
     "output_type": "execute_result"
    }
   ],
   "source": [
    "# TUPLES ARE COMPARABLE\n",
    "(4, 5, 6) < (7, 8, 9)"
   ]
  },
  {
   "cell_type": "code",
   "execution_count": 10,
   "id": "f0a9e2e1",
   "metadata": {},
   "outputs": [
    {
     "data": {
      "text/plain": [
       "True"
      ]
     },
     "execution_count": 10,
     "metadata": {},
     "output_type": "execute_result"
    }
   ],
   "source": [
    "(4, 7, 10) < (5, 6, 9)"
   ]
  },
  {
   "cell_type": "code",
   "execution_count": 31,
   "id": "aec91dee",
   "metadata": {},
   "outputs": [
    {
     "data": {
      "text/plain": [
       "[(7, 'cat'), (6, 'dog'), (3, 'snake')]"
      ]
     },
     "execution_count": 31,
     "metadata": {},
     "output_type": "execute_result"
    }
   ],
   "source": [
    "# SORT A DICT THEN CONVERT TO A TUPLE\n",
    "# SORTED() method is to sort by key order\n",
    "animal = {\n",
    "    'dog' : 6,\n",
    "    'cat' : 7,\n",
    "    'snake' : 3\n",
    "}\n",
    "tups = tuple(sorted(animal))\n",
    "tups # cat dog snake\n",
    "\n",
    "# Even SHORTER VERSION:\n",
    "new_tups = sorted([(v, k) for k, v in animal.items()], reverse = True)\n",
    "new_tups"
   ]
  },
  {
   "cell_type": "code",
   "execution_count": 20,
   "id": "60c49780",
   "metadata": {},
   "outputs": [
    {
     "name": "stdout",
     "output_type": "stream",
     "text": [
      "[(6, 'dog'), (7, 'cat'), (3, 'snake')]\n"
     ]
    },
    {
     "data": {
      "text/plain": [
       "((7, 'cat'), (6, 'dog'), (3, 'snake'))"
      ]
     },
     "execution_count": 20,
     "metadata": {},
     "output_type": "execute_result"
    }
   ],
   "source": [
    "# SORT BY VALUE INSTEAD OF KEY:\n",
    "temp = list()\n",
    "for k, v in animal.items():\n",
    "    temp.append((v, k))\n",
    "print(temp)\n",
    "temp = tuple(sorted(temp, reverse = True))\n",
    "temp"
   ]
  },
  {
   "cell_type": "code",
   "execution_count": 24,
   "id": "1f8fbbb4",
   "metadata": {},
   "outputs": [
    {
     "name": "stdout",
     "output_type": "stream",
     "text": [
      "Enter file name here : tupleData.txt\n",
      "7 of\n",
      "5 the\n",
      "5 a\n",
      "4 data\n",
      "3 and\n",
      "3 analysts\n",
      "2 to\n",
      "2 these\n",
      "2 that\n",
      "2 into\n"
     ]
    }
   ],
   "source": [
    "# Practice : list of top ten most common word in a txt file\n",
    "name = input('Enter file name here : ')\n",
    "fhand = open(name)\n",
    "counts = dict()\n",
    "for line in fhand:\n",
    "    line = line.rstrip()\n",
    "    words = line.split()\n",
    "    for word in words:\n",
    "        counts[word] = counts.get(word, 0) + 1\n",
    "lst = list()\n",
    "for k, v in counts.items():\n",
    "    tup = (v, k)\n",
    "    lst.append(tup)\n",
    "\n",
    "lst = tuple(sorted(lst, reverse = True))\n",
    "for key, val in lst[:10]:\n",
    "    print(key, val)"
   ]
  },
  {
   "cell_type": "code",
   "execution_count": 29,
   "id": "1bc210f4",
   "metadata": {},
   "outputs": [
    {
     "data": {
      "text/plain": [
       "True"
      ]
     },
     "execution_count": 29,
     "metadata": {},
     "output_type": "execute_result"
    }
   ],
   "source": [
    "(6, 0, 0) > (5, 1, 3)"
   ]
  },
  {
   "cell_type": "markdown",
   "id": "38d03727",
   "metadata": {},
   "source": [
    "## Nesting Tuples:"
   ]
  },
  {
   "cell_type": "code",
   "execution_count": 1,
   "id": "c78c0a2d",
   "metadata": {},
   "outputs": [
    {
     "name": "stdout",
     "output_type": "stream",
     "text": [
      "rock\n"
     ]
    }
   ],
   "source": [
    "nes_tup = (1, 2, (\"pop\", \"rock\"), (3, 4))\n",
    "          #0  1  [2][0]  [2][1]   [3]\n",
    "print(nes_tup[2][1])"
   ]
  },
  {
   "cell_type": "code",
   "execution_count": null,
   "id": "76cded90",
   "metadata": {},
   "outputs": [],
   "source": []
  }
 ],
 "metadata": {
  "kernelspec": {
   "display_name": "Python 3 (ipykernel)",
   "language": "python",
   "name": "python3"
  },
  "language_info": {
   "codemirror_mode": {
    "name": "ipython",
    "version": 3
   },
   "file_extension": ".py",
   "mimetype": "text/x-python",
   "name": "python",
   "nbconvert_exporter": "python",
   "pygments_lexer": "ipython3",
   "version": "3.11.5"
  },
  "vscode": {
   "interpreter": {
    "hash": "318f2c383d48220c821fefd227250c35bb828f95042f5889a5ad1704b1baf79c"
   }
  }
 },
 "nbformat": 4,
 "nbformat_minor": 5
}
