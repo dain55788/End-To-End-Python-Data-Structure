{
 "cells": [
  {
   "cell_type": "markdown",
   "id": "17af85dc",
   "metadata": {},
   "source": [
    "# Object-Oriented Programming using Python"
   ]
  },
  {
   "cell_type": "markdown",
   "id": "1718be8d",
   "metadata": {},
   "source": [
    "## Classes and constructors:\n"
   ]
  },
  {
   "cell_type": "code",
   "execution_count": 6,
   "id": "e04fa9d6",
   "metadata": {},
   "outputs": [
    {
     "name": "stdout",
     "output_type": "stream",
     "text": [
      "Buddy says woof\n",
      "Lala says meowmeow\n"
     ]
    }
   ],
   "source": [
    "# Initialize a basic class:\n",
    "class Animal:\n",
    "    def __init__(self, animal_name, greeting):\n",
    "        self.animal_name = animal_name\n",
    "        self.greeting = greeting\n",
    "    def greet(self):\n",
    "        return \"{} says {}\".format(self.animal_name, self.greeting)\n",
    "    \n",
    "#Create an object:\n",
    "dog = Animal(\"Buddy\", \"woof\")\n",
    "print(dog.greet())\n",
    "cat = Animal(\"Lala\", \"meowmeow\")\n",
    "print(cat.greet())"
   ]
  },
  {
   "cell_type": "code",
   "execution_count": 41,
   "id": "384c5fe9",
   "metadata": {},
   "outputs": [
    {
     "data": {
      "image/png": "[encoded data removed]",
      "text/plain": [
       "<Figure size 640x480 with 1 Axes>"
      ]
     },
     "metadata": {},
     "output_type": "display_data"
    }
   ],
   "source": [
    "# Draw Circle:\n",
    "import matplotlib.pyplot as plt\n",
    "\n",
    "class Circle:\n",
    "    def __init__(self, radius, color = 'red'):\n",
    "        self.radius = radius\n",
    "        self.color = color\n",
    "    def drawCircle(self):\n",
    "        fig, ax = plt.subplots()\n",
    "        circle = plt.Circle((0.5, 0.5), self.radius, color=self.color)\n",
    "        ax.add_artist(circle)\n",
    "        ax.set_xlim(0, 1)\n",
    "        ax.set_ylim(0, 1)\n",
    "        ax.set_aspect('equal', 'box')\n",
    "        plt.show()\n",
    "    # Getter and setter:\n",
    "    def radius(self):\n",
    "        return self._radius # _ : indicate that the radius is private\n",
    "    \n",
    "    def radius(self, value):\n",
    "        if value < 0:\n",
    "            raise ValueError(\"Radius cannot be negative\")\n",
    "        self._radius = value\n",
    "        \n",
    "RedCircle = Circle(0.4)\n",
    "RedCircle.radius\n",
    "RedCircle.drawCircle()\n"
   ]
  },
  {
   "cell_type": "code",
   "execution_count": 42,
   "id": "4b425630",
   "metadata": {},
   "outputs": [],
   "source": [
    "# Example 2 : Vehicle class:\n",
    "class Car:\n",
    "    def __init__(self, max_speed, mileage, color = 'white'):\n",
    "        self.max_speed = max_speed\n",
    "        self.mileage = mileage\n",
    "        self.color = color\n",
    "        self.seating = None\n",
    "\n",
    "    def assign_seating(self, value):\n",
    "        if value < 0:\n",
    "            print(\"Input seating > 0\")\n",
    "            return None\n",
    "        self.seating = value\n",
    "    \n",
    "    def get_all(self):\n",
    "        return \"Max speed : {} \\n Mileage : {} \\n Seating capacity : {} \\n Color : {} \\n\".format(self.max_speed, self.mileage, self.seating, self.color)"
   ]
  },
  {
   "cell_type": "code",
   "execution_count": 43,
   "id": "a9613971",
   "metadata": {},
   "outputs": [
    {
     "name": "stdout",
     "output_type": "stream",
     "text": [
      "Max speed : 200 \n",
      " Mileage : 20 \n",
      " Seating capacity : 5 \n",
      " Color : white \n",
      "\n",
      "Max speed : 180 \n",
      " Mileage : 25 \n",
      " Seating capacity : 4 \n",
      " Color : white \n",
      "\n"
     ]
    }
   ],
   "source": [
    "Car1 = Car(200, 20)\n",
    "Car1.assign_seating(5)\n",
    "print(Car1.get_all())\n",
    "Car2 = Car(180, 25)\n",
    "Car2.assign_seating(4)\n",
    "print(Car2.get_all())"
   ]
  },
  {
   "cell_type": "code",
   "execution_count": 45,
   "id": "a26c9f55",
   "metadata": {},
   "outputs": [],
   "source": [
    "# Example 3 : Class Text Analyzer to count the frequency of a word/ string:\n",
    "class TextAnalyzer(object):\n",
    "    \n",
    "    def __init__ (self, text):\n",
    "        # remove punctuation\n",
    "        formattedText = text.replace('.','').replace('!','').replace('?','').replace(',','')\n",
    "        # make text lowercase\n",
    "        formattedText = formattedText.lower()\n",
    "        self.fmtText = formattedText\n",
    "    def freqAll(self):        \n",
    "        # split text into words\n",
    "        words = []\n",
    "        words = self.fmtText.split(' ')\n",
    "        # Create dictionary\n",
    "        freqDict = {}\n",
    "        for word in set(words):\n",
    "            freqDict[word] = words.count(word)\n",
    "        return freqDict\n",
    "    def freqOf(self,word):\n",
    "        # get frequency map\n",
    "        freqMap = self.freqAll()\n",
    "        if word in freqMap:\n",
    "            return freqMap[word]\n",
    "        else:\n",
    "            return 0"
   ]
  },
  {
   "cell_type": "code",
   "execution_count": 46,
   "id": "d668245f",
   "metadata": {},
   "outputs": [],
   "source": [
    "givenstring=\"Lorem ipsum dolor! diam amet, consetetur Lorem magna. sed diam nonumy eirmod tempor. diam et labore? et diam magna. et diam amet.\""
   ]
  },
  {
   "cell_type": "code",
   "execution_count": 47,
   "id": "238d6271",
   "metadata": {},
   "outputs": [
    {
     "name": "stdout",
     "output_type": "stream",
     "text": [
      "Formatted Text: lorem ipsum dolor diam amet consetetur lorem magna sed diam nonumy eirmod tempor diam et labore et diam magna et diam amet\n",
      "{'diam': 5, 'eirmod': 1, 'amet': 2, 'nonumy': 1, 'magna': 2, 'consetetur': 1, 'tempor': 1, 'labore': 1, 'et': 3, 'dolor': 1, 'sed': 1, 'ipsum': 1, 'lorem': 2}\n"
     ]
    },
    {
     "data": {
      "text/plain": [
       "2"
      ]
     },
     "execution_count": 47,
     "metadata": {},
     "output_type": "execute_result"
    }
   ],
   "source": [
    "textAnalyze = TextAnalyzer(givenstring)\n",
    "print(\"Formatted Text:\", textAnalyze.fmtText)\n",
    "\n",
    "# Analyze all the text in textAnalyze\n",
    "print(textAnalyze.freqAll())\n",
    "\n",
    "# Call the function freqOf to count frequency of a specific word:\n",
    "textAnalyze.freqOf(\"lorem\")"
   ]
  },
  {
   "cell_type": "code",
   "execution_count": 48,
   "id": "ee9f015f",
   "metadata": {},
   "outputs": [
    {
     "name": "stdout",
     "output_type": "stream",
     "text": [
      "x= A  y= 2\n"
     ]
    }
   ],
   "source": [
    "class Points(object): \n",
    "    def __init__(self, x, y): \n",
    "        self.x = x \n",
    "        self.y = y \n",
    "    def print_point(self): \n",
    "        print('x=', self.x, ' y=', self.y) \n",
    "\n",
    "\n",
    "p2 = Points(1, 2) \n",
    "p2.x = 'A' \n",
    "p2.print_point()"
   ]
  },
  {
   "cell_type": "code",
   "execution_count": null,
   "id": "4de86df8",
   "metadata": {},
   "outputs": [],
   "source": []
  }
 ],
 "metadata": {
  "kernelspec": {
   "display_name": "Python 3 (ipykernel)",
   "language": "python",
   "name": "python3"
  },
  "language_info": {
   "codemirror_mode": {
    "name": "ipython",
    "version": 3
   },
   "file_extension": ".py",
   "mimetype": "text/x-python",
   "name": "python",
   "nbconvert_exporter": "python",
   "pygments_lexer": "ipython3",
   "version": "3.11.5"
  }
 },
 "nbformat": 4,
 "nbformat_minor": 5
}
