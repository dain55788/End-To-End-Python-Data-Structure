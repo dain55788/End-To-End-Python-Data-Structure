{
 "cells": [
  {
   "cell_type": "markdown",
   "id": "0c6fc749",
   "metadata": {},
   "source": [
    "# Searching Algorithm"
   ]
  },
  {
   "cell_type": "markdown",
   "id": "f15d9bfc",
   "metadata": {},
   "source": [
    "## This article willl focus on these following searching algorithm:"
   ]
  },
  {
   "cell_type": "markdown",
   "id": "07e28f7a",
   "metadata": {},
   "source": [
    "### Linear Searching\n",
    "### Binary Searching\n",
    "### Sentinel Linear Search\n",
    "### Jump Search\n",
    "### Fibonacci Search\n",
    "### Interpolation Search"
   ]
  },
  {
   "cell_type": "code",
   "execution_count": 2,
   "id": "db7096d8",
   "metadata": {},
   "outputs": [
    {
     "name": "stdout",
     "output_type": "stream",
     "text": [
      "0.0\n"
     ]
    }
   ],
   "source": [
    "# To compare the performance of our implemented search algorithms against a dataset, we can use the time library in Python:\n",
    "import time\n",
    "\n",
    "start = time.time()\n",
    "# call the function here\n",
    "end = time.time()\n",
    "print(start-end)"
   ]
  },
  {
   "cell_type": "code",
   "execution_count": 1,
   "id": "cd2c08a3",
   "metadata": {},
   "outputs": [
    {
     "name": "stdout",
     "output_type": "stream",
     "text": [
      "[83, 29, 16, 81, 62, 2, 81, 50, 84, 48]\n"
     ]
    }
   ],
   "source": [
    "from random import randint\n",
    "MAX_ARRAY = 10\n",
    "array = [randint(0, 100) for i in range(MAX_ARRAY)]\n",
    "print(array)"
   ]
  },
  {
   "cell_type": "code",
   "execution_count": 2,
   "id": "7e23b51e",
   "metadata": {},
   "outputs": [],
   "source": [
    "# Linear Search\n",
    "def linear_search(array, target):\n",
    "    for i in range(len(array)):\n",
    "        if array[i] == target:\n",
    "            return i\n",
    "    return -1 #cannot find target"
   ]
  },
  {
   "cell_type": "code",
   "execution_count": 9,
   "id": "b5786d4b",
   "metadata": {},
   "outputs": [
    {
     "name": "stdout",
     "output_type": "stream",
     "text": [
      "4\n"
     ]
    }
   ],
   "source": [
    "# run the algorithm\n",
    "print(linear_search(array, 62))"
   ]
  },
  {
   "cell_type": "code",
   "execution_count": 10,
   "id": "b56662b0",
   "metadata": {},
   "outputs": [],
   "source": [
    "# Binary Search:\n",
    "def binary_search(array, target):\n",
    "    left = 0\n",
    "    right = len(array) - 1\n",
    "    while left <= right:\n",
    "        mid = (left + right)//2\n",
    "        if array[mid] > target:\n",
    "            right = mid - 1\n",
    "        elif array[mid] < target:\n",
    "            left = mid + 1\n",
    "        else:\n",
    "            return mid\n",
    "    return -1"
   ]
  },
  {
   "cell_type": "code",
   "execution_count": 16,
   "id": "6180781d",
   "metadata": {},
   "outputs": [
    {
     "name": "stdout",
     "output_type": "stream",
     "text": [
      "-1\n"
     ]
    }
   ],
   "source": [
    "# run the algorithm\n",
    "result = binary_search(array, 48)\n",
    "print(result)"
   ]
  },
  {
   "cell_type": "code",
   "execution_count": null,
   "id": "d69fd6d0",
   "metadata": {},
   "outputs": [],
   "source": []
  }
 ],
 "metadata": {
  "kernelspec": {
   "display_name": "Python 3 (ipykernel)",
   "language": "python",
   "name": "python3"
  },
  "language_info": {
   "codemirror_mode": {
    "name": "ipython",
    "version": 3
   },
   "file_extension": ".py",
   "mimetype": "text/x-python",
   "name": "python",
   "nbconvert_exporter": "python",
   "pygments_lexer": "ipython3",
   "version": "3.11.5"
  }
 },
 "nbformat": 4,
 "nbformat_minor": 5
}
