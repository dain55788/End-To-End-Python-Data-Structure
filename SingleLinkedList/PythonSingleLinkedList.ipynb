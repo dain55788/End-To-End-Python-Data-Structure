{
 "cells": [
  {
   "cell_type": "markdown",
   "id": "64a966b7",
   "metadata": {},
   "source": [
    "## Practice LinkedList in Python"
   ]
  },
  {
   "cell_type": "markdown",
   "id": "c0f06979",
   "metadata": {},
   "source": [
    "### A linked list is a type of linear data structure similar to arrays. It is a collection of nodes that are linked with each other. A node contains two things first is data and second is a link that connects it with another node. Below is an example of a linked list with four nodes and each node contains character data and a link to another node. Our first node is where head points and we can access all the elements of the linked list using the head."
   ]
  },
  {
   "cell_type": "markdown",
   "id": "85479136",
   "metadata": {},
   "source": [
    "### Linkedlist method : __init__, insertAtBegin(), insertAtIndex(), insertAtEnd(), remove_node(), size_of(), print_list()"
   ]
  },
  {
   "cell_type": "code",
   "execution_count": 10,
   "id": "e5059d74",
   "metadata": {},
   "outputs": [],
   "source": [
    "## Create Node class to init data :\n",
    "class Node():\n",
    "    def __init__(self, data):\n",
    "        self.data = data\n",
    "        self.next = None"
   ]
  },
  {
   "cell_type": "code",
   "execution_count": 40,
   "id": "eb0179cf",
   "metadata": {},
   "outputs": [],
   "source": [
    "## Create a linkedlist class:\n",
    "class LinkedList():\n",
    "    def __init__(self):\n",
    "        self.head = None\n",
    "    # Insert at the beginning of the list:\n",
    "    def insert_first(self, data):\n",
    "        new_node = Node(data)\n",
    "        if self.head is None:\n",
    "            self.head = new_node\n",
    "            return\n",
    "        else:\n",
    "            new_node.next = self.head\n",
    "            self.head = new_node\n",
    "    # Insert at the end of the list:\n",
    "    def insert_last(self, data):\n",
    "        new_node = Node(data)\n",
    "        if self.head is None:\n",
    "            self.head = new_node\n",
    "            return\n",
    "        cur_node = self.head\n",
    "        while cur_node.next is not None:\n",
    "            cur_node = cur_node.next\n",
    "        cur_node.next = new_node\n",
    "    # Insert at a specific position:\n",
    "    def insert_at(self, data, index):\n",
    "        pos = 0\n",
    "        new_node = Node(data)\n",
    "        cur_node = self.head\n",
    "        if pos == index:\n",
    "            self.insert_at_begin(data)\n",
    "        else:\n",
    "            while(cur_node != None and pos + 1 != index):\n",
    "                pos += 1\n",
    "                cur_node = cur_node.next\n",
    "            if cur_node != None:\n",
    "                new_node.next = cur_node.next\n",
    "                cur_node.next = new_node\n",
    "            else:\n",
    "                print(\"Index is not present!!!\")\n",
    "    # Remove first node:\n",
    "    def remove_first(self):\n",
    "        # Do nothing if current linkedlist is null:\n",
    "        if self.head is None:\n",
    "            return\n",
    "        self.head = self.head.next\n",
    "    # Remove the end node:\n",
    "    def remove_last(self):\n",
    "        if self.head is None:\n",
    "            return\n",
    "        cur_node = self.head\n",
    "        while cur_node.next.next is not None: #cur_node.next.next is to move cur_node to index before the last node\n",
    "            cur_node = cur_node.next\n",
    "        # set the node after cur_node to None:\n",
    "        cur_node.next = None\n",
    "    # Remove node at a specific position:\n",
    "    def remove_at(self, index):\n",
    "        pos = 0\n",
    "        cur_node = self.head\n",
    "        if pos == index:\n",
    "            self.remove_first()\n",
    "        else:\n",
    "            while (cur_node.next != None and pos + 1 != index):\n",
    "                pos += 1\n",
    "                cur_node = cur_node.next\n",
    "            if cur_node != None:\n",
    "                cur_node.next = cur_node.next.next\n",
    "            else:\n",
    "                print(\"Index is not present!!!\")\n",
    "    # traverse through a linkedlist:\n",
    "    def printLinkedList(self):\n",
    "        cur_node = self.head\n",
    "        while cur_node is not None:\n",
    "            print(cur_node.data)\n",
    "            cur_node = cur_node.next\n",
    "    #size of a linkedlist:\n",
    "    \n",
    "    def size_of_LL(self):\n",
    "        size = 0\n",
    "        if(self.head):\n",
    "            current_node = self.head\n",
    "            while(current_node):\n",
    "                size = size+1\n",
    "                current_node = current_node.next\n",
    "            return size\n",
    "        else:\n",
    "            return 0"
   ]
  },
  {
   "cell_type": "code",
   "execution_count": 46,
   "id": "fcf417d1",
   "metadata": {},
   "outputs": [],
   "source": [
    "# test :\n",
    "list1 = LinkedList()"
   ]
  },
  {
   "cell_type": "code",
   "execution_count": 47,
   "id": "3f796afd",
   "metadata": {},
   "outputs": [
    {
     "name": "stdout",
     "output_type": "stream",
     "text": [
      "3\n",
      "5.3\n",
      "4.5\n",
      "6\n",
      "5\n",
      "Size of list1 : \n",
      "5\n"
     ]
    }
   ],
   "source": [
    "list1.insert_first(3)\n",
    "list1.insert_last(5.3)\n",
    "list1.insert_last(4.5)\n",
    "list1.insert_last(5)\n",
    "list1.insert_at(6, 3)\n",
    "list1.printLinkedList()\n",
    "print(\"Size of list1 : \")\n",
    "print(list1.size_of_LL())"
   ]
  },
  {
   "cell_type": "code",
   "execution_count": 48,
   "id": "fbb54f18",
   "metadata": {},
   "outputs": [
    {
     "name": "stdout",
     "output_type": "stream",
     "text": [
      "5.3\n",
      "6\n"
     ]
    }
   ],
   "source": [
    "list1.remove_first()\n",
    "list1.remove_last()\n",
    "list1.remove_at(1)\n",
    "list1.printLinkedList()"
   ]
  },
  {
   "cell_type": "code",
   "execution_count": null,
   "id": "6bd138d0",
   "metadata": {},
   "outputs": [],
   "source": []
  }
 ],
 "metadata": {
  "kernelspec": {
   "display_name": "Python 3.11.0 64-bit",
   "language": "python",
   "name": "python3"
  },
  "language_info": {
   "codemirror_mode": {
    "name": "ipython",
    "version": 3
   },
   "file_extension": ".py",
   "mimetype": "text/x-python",
   "name": "python",
   "nbconvert_exporter": "python",
   "pygments_lexer": "ipython3",
   "version": "3.11.0"
  },
  "vscode": {
   "interpreter": {
    "hash": "318f2c383d48220c821fefd227250c35bb828f95042f5889a5ad1704b1baf79c"
   }
  }
 },
 "nbformat": 4,
 "nbformat_minor": 5
}
