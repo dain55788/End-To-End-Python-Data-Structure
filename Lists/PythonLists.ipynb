{
 "cells": [
  {
   "cell_type": "markdown",
   "id": "6540477b",
   "metadata": {},
   "source": [
    "## Practice List in Python"
   ]
  },
  {
   "cell_type": "code",
   "execution_count": 2,
   "id": "8de9219b",
   "metadata": {},
   "outputs": [],
   "source": [
    "# Lists are surrounded by square brackets\n",
    "# A list can contain any Python object, even another list"
   ]
  },
  {
   "cell_type": "code",
   "execution_count": 3,
   "id": "43320759",
   "metadata": {},
   "outputs": [
    {
     "name": "stdout",
     "output_type": "stream",
     "text": [
      "[1, 2, 4]\n"
     ]
    }
   ],
   "source": [
    "# Example :\n",
    "print([1, 2, 4])"
   ]
  },
  {
   "cell_type": "code",
   "execution_count": 4,
   "id": "081ddc8b",
   "metadata": {},
   "outputs": [
    {
     "name": "stdout",
     "output_type": "stream",
     "text": [
      "[1, 4, 'blue', 'yellow']\n"
     ]
    }
   ],
   "source": [
    "print([1, 4, 'blue', 'yellow'])"
   ]
  },
  {
   "cell_type": "code",
   "execution_count": 5,
   "id": "a03736cf",
   "metadata": {},
   "outputs": [
    {
     "name": "stdout",
     "output_type": "stream",
     "text": [
      "[1, [2, 'yellow'], 4, 'green']\n"
     ]
    }
   ],
   "source": [
    "print([1, [2, 'yellow'], 4, 'green'])"
   ]
  },
  {
   "cell_type": "code",
   "execution_count": 8,
   "id": "fa1940e5",
   "metadata": {},
   "outputs": [
    {
     "name": "stdout",
     "output_type": "stream",
     "text": [
      "Happy New Year: Anna\n",
      "Happy New Year: David\n",
      "Happy New Year: Dainy\n",
      "Happy New Year: Bob\n",
      "Done\n"
     ]
    }
   ],
   "source": [
    "friends = ['Anna', 'David', 'Dainy', 'Bob']\n",
    "for friend in friends:\n",
    "    print('Happy New Year: ' + friend)\n",
    "print(\"Done\")"
   ]
  },
  {
   "cell_type": "markdown",
   "id": "6f63de91",
   "metadata": {},
   "source": [
    "### Lists are mutable, we can change an element of a list using index"
   ]
  },
  {
   "cell_type": "code",
   "execution_count": 13,
   "id": "264e0919",
   "metadata": {},
   "outputs": [
    {
     "name": "stdout",
     "output_type": "stream",
     "text": [
      "['Orange', 'Apple', 'Dragon Fruit', 'Mango']\n",
      "There are 4 fruits.\n"
     ]
    }
   ],
   "source": [
    "fruits = ['Orange', 'Banana', 'Dragon Fruit', 'Mango']\n",
    "fruits[1] = 'Apple'\n",
    "print(fruits)\n",
    "count = len(fruits)\n",
    "print('There are {} fruits.'.format(count))"
   ]
  },
  {
   "cell_type": "markdown",
   "id": "069db6e5",
   "metadata": {},
   "source": [
    "### Using for loop in range() function"
   ]
  },
  {
   "cell_type": "code",
   "execution_count": 17,
   "id": "d244260d",
   "metadata": {},
   "outputs": [
    {
     "name": "stdout",
     "output_type": "stream",
     "text": [
      "4\n",
      "range(0, 4)\n",
      "Orange\n",
      "Apple\n",
      "Dragon Fruit\n",
      "Mango\n"
     ]
    }
   ],
   "source": [
    "print(len(fruits))\n",
    "print(range(len(fruits)))\n",
    "for i in range(len(fruits)):\n",
    "    fruit = fruits[i]\n",
    "    print(fruit)"
   ]
  },
  {
   "cell_type": "markdown",
   "id": "c3389b57",
   "metadata": {},
   "source": [
    "## List methods"
   ]
  },
  {
   "cell_type": "code",
   "execution_count": 18,
   "id": "a632df75",
   "metadata": {},
   "outputs": [
    {
     "name": "stdout",
     "output_type": "stream",
     "text": [
      "[1, 2, 3, 4, 5, 6]\n"
     ]
    }
   ],
   "source": [
    "# CONCATENATE A LIST :\n",
    "a = [1, 2, 3]\n",
    "b = [4, 5, 6]\n",
    "c = a + b\n",
    "print(c)"
   ]
  },
  {
   "cell_type": "code",
   "execution_count": 23,
   "id": "7aa65b23",
   "metadata": {},
   "outputs": [
    {
     "name": "stdout",
     "output_type": "stream",
     "text": [
      "['Apple', 'Dragon Fruit']\n",
      "['Orange', 'Apple', 'Dragon Fruit', 'Mango']\n",
      "['Orange', 'Apple']\n"
     ]
    }
   ],
   "source": [
    "# SLIDE A LIST USING ':' (remember : up to but not including)\n",
    "my_fruits = fruits[1:3]\n",
    "print(my_fruits)\n",
    "my_fruits = fruits[:]\n",
    "print(my_fruits)\n",
    "my_fruits = fruits[:2]\n",
    "print(my_fruits)"
   ]
  },
  {
   "cell_type": "code",
   "execution_count": 26,
   "id": "da9abf02",
   "metadata": {},
   "outputs": [
    {
     "name": "stdout",
     "output_type": "stream",
     "text": [
      "['Lana']\n"
     ]
    }
   ],
   "source": [
    "# APPEND() FUNCTION TO ADD ELEMENT TO THE LIST:\n",
    "my_friends = list()\n",
    "my_friends.append('Lana')\n",
    "print(my_friends)"
   ]
  },
  {
   "cell_type": "code",
   "execution_count": 32,
   "id": "5d68bd94",
   "metadata": {},
   "outputs": [
    {
     "data": {
      "text/plain": [
       "True"
      ]
     },
     "execution_count": 32,
     "metadata": {},
     "output_type": "execute_result"
    }
   ],
   "source": [
    "# IS SOMETHING IN THE LIST?\n",
    "my_things = [1, 2, 5, 'dolphin', 0.3]\n",
    "0.3 in my_things # true\n",
    "'fish' in my_things # false\n",
    "'dog' not in my_things # true"
   ]
  },
  {
   "cell_type": "code",
   "execution_count": 36,
   "id": "7f93f51b",
   "metadata": {},
   "outputs": [
    {
     "name": "stdout",
     "output_type": "stream",
     "text": [
      "[0.3, 1, 2, 5, 7, 9]\n",
      "[9, 7, 5, 2, 1, 0.3]\n"
     ]
    }
   ],
   "source": [
    "fr# SORTING THINGS IN A LIST :\n",
    "my_nums = [7, 1, 9, 0.3, 5, 2]\n",
    "my_nums.sort()\n",
    "print(my_nums)\n",
    "\n",
    "# DECREASING \n",
    "my_nums.sort(reverse = True)\n",
    "print(my_nums)"
   ]
  },
  {
   "cell_type": "code",
   "execution_count": 37,
   "id": "1d147034",
   "metadata": {},
   "outputs": [
    {
     "name": "stdout",
     "output_type": "stream",
     "text": [
      "MAX : 9 MIN : 0.3 SUM : 24.3\n"
     ]
    }
   ],
   "source": [
    "# MAX/ MIN/ SUM OF ALL ELEMENTS IN A LIST :\n",
    "max_element = max(my_nums)\n",
    "min_element = min(my_nums)\n",
    "sum_result = sum(my_nums)\n",
    "print('MAX : {} MIN : {} SUM : {}'.format(max_element, min_element, sum_result))"
   ]
  },
  {
   "cell_type": "markdown",
   "id": "7b960b6e",
   "metadata": {},
   "source": [
    "## List working with String"
   ]
  },
  {
   "cell_type": "code",
   "execution_count": 44,
   "id": "aa2d112f",
   "metadata": {},
   "outputs": [
    {
     "name": "stdout",
     "output_type": "stream",
     "text": [
      "['dogs', 'cats', 'dragons', 'monkeys', 'fishes', 'donkies']\n",
      "['mango', 'dragon fruit', 'apple', 'banana', 'ngon ngon']\n",
      "Email dain55788@gmail.com sent a message in Thurs Feb 9 05:25:15 2024 \n"
     ]
    }
   ],
   "source": [
    "# SPLIT() FUNCTION :\n",
    "animal_str = \"dogs cats dragons monkeys fishes donkies\"\n",
    "animal_list = animal_str.split()\n",
    "print(animal_list)\n",
    "\n",
    "# Use specified delimeter to split a string :\n",
    "fruit_str = \"mango;dragon fruit;apple;banana;ngon ngon\"\n",
    "fruit_list = fruit_str.split(';')\n",
    "print(fruit_list)\n",
    "\n",
    "#Practice list with a txt file :\n",
    "fhand = open(\"data.txt\")\n",
    "for line in fhand:\n",
    "    line = line.rstrip()\n",
    "    if not line.startswith('From ') :\n",
    "        continue\n",
    "    words = line.split()\n",
    "    email = words[1]\n",
    "    day = words[2]\n",
    "    month = words[3]\n",
    "    date = words[4]\n",
    "    time = words[5]\n",
    "    year = words[6]\n",
    "print(\"Email {} sent a message in {} {} {} {} {} \".format(email, day, month, date, time, year))"
   ]
  },
  {
   "cell_type": "markdown",
   "id": "637c00d1",
   "metadata": {},
   "source": [
    "## Clone a list:"
   ]
  },
  {
   "cell_type": "code",
   "execution_count": 1,
   "id": "b114044f",
   "metadata": {},
   "outputs": [
    {
     "data": {
      "text/plain": [
       "['JujutsuKaisen', 1, 2]"
      ]
     },
     "execution_count": 1,
     "metadata": {},
     "output_type": "execute_result"
    }
   ],
   "source": [
    "A = [\"JujutsuKaisen\", 1, 2]\n",
    "B = A[:]\n",
    "B"
   ]
  },
  {
   "cell_type": "markdown",
   "id": "0c45208b",
   "metadata": {},
   "source": [
    "## A and B reference the same list:"
   ]
  },
  {
   "cell_type": "code",
   "execution_count": 3,
   "id": "aeeab321",
   "metadata": {},
   "outputs": [
    {
     "data": {
      "text/plain": [
       "['Demon Slayer', 1, 2]"
      ]
     },
     "execution_count": 3,
     "metadata": {},
     "output_type": "execute_result"
    }
   ],
   "source": [
    "A = [\"JujutsuKaisen\", 1, 2]\n",
    "B = A\n",
    "A[0] = \"Demon Slayer\"\n",
    "B"
   ]
  },
  {
   "cell_type": "code",
   "execution_count": null,
   "id": "d96a9808",
   "metadata": {},
   "outputs": [],
   "source": []
  }
 ],
 "metadata": {
  "kernelspec": {
   "display_name": "Python 3 (ipykernel)",
   "language": "python",
   "name": "python3"
  },
  "language_info": {
   "codemirror_mode": {
    "name": "ipython",
    "version": 3
   },
   "file_extension": ".py",
   "mimetype": "text/x-python",
   "name": "python",
   "nbconvert_exporter": "python",
   "pygments_lexer": "ipython3",
   "version": "3.11.5"
  },
  "vscode": {
   "interpreter": {
    "hash": "318f2c383d48220c821fefd227250c35bb828f95042f5889a5ad1704b1baf79c"
   }
  }
 },
 "nbformat": 4,
 "nbformat_minor": 5
}
