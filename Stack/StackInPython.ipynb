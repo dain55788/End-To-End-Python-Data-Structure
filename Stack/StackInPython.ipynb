{
 "cells": [
  {
   "cell_type": "markdown",
   "id": "94bdadf9",
   "metadata": {},
   "source": [
    "# Practice using Stack in Python"
   ]
  },
  {
   "cell_type": "markdown",
   "id": "e2682754",
   "metadata": {},
   "source": [
    "## Implementation of stack with Array (or list by the way):"
   ]
  },
  {
   "cell_type": "code",
   "execution_count": 2,
   "id": "b399d603",
   "metadata": {},
   "outputs": [
    {
     "name": "stdout",
     "output_type": "stream",
     "text": [
      "Initial stack\n",
      "['a', 'b', 'c']\n",
      "\n",
      "Elements popped from stack:\n",
      "c\n",
      "b\n",
      "a\n",
      "\n",
      "Stack after elements are popped:\n",
      "[]\n"
     ]
    }
   ],
   "source": [
    "#Initialize empty stack:\n",
    "stack = []\n",
    "\n",
    "# append() function to push\n",
    "# element in the stack\n",
    "stack.append('a')\n",
    "stack.append('b')\n",
    "stack.append('c')\n",
    "\n",
    "print('Initial stack')\n",
    "print(stack)\n",
    "\n",
    "# pop() function to pop\n",
    "# element from stack in\n",
    "# LIFO order\n",
    "print('\\nElements popped from stack:')\n",
    "print(stack.pop())\n",
    "print(stack.pop())\n",
    "print(stack.pop())\n",
    "\n",
    "print('\\nStack after elements are popped:')\n",
    "print(stack)"
   ]
  },
  {
   "cell_type": "code",
   "execution_count": 3,
   "id": "9136638d",
   "metadata": {},
   "outputs": [
    {
     "name": "stdout",
     "output_type": "stream",
     "text": [
      "Initial stack:\n",
      "deque(['a', 'b', 'c'])\n",
      "\n",
      "Elements popped from stack:\n",
      "c\n",
      "b\n",
      "a\n",
      "\n",
      "Stack after elements are popped:\n",
      "deque([])\n"
     ]
    }
   ],
   "source": [
    "# demonstrate stack implementation\n",
    "# using collections.deque\n",
    "\n",
    "from collections import deque\n",
    "\n",
    "stack = deque()\n",
    "\n",
    "# append() function to push\n",
    "# element in the stack\n",
    "stack.append('a')\n",
    "stack.append('b')\n",
    "stack.append('c')\n",
    "\n",
    "print('Initial stack:')\n",
    "print(stack)\n",
    "\n",
    "# pop() function to pop\n",
    "# element from stack in\n",
    "# LIFO order\n",
    "print('\\nElements popped from stack:')\n",
    "print(stack.pop())\n",
    "print(stack.pop())\n",
    "print(stack.pop())\n",
    "\n",
    "print('\\nStack after elements are popped:')\n",
    "print(stack)"
   ]
  },
  {
   "cell_type": "markdown",
   "id": "bf0c7e35",
   "metadata": {},
   "source": [
    "## Implementation using a singly linked list:  "
   ]
  },
  {
   "cell_type": "markdown",
   "id": "9ec09a29",
   "metadata": {},
   "source": [
    "### getSize()\n",
    "### isEmpty()\n",
    "### peek()\n",
    "### push(value)\n",
    "### pop()"
   ]
  },
  {
   "cell_type": "code",
   "execution_count": 1,
   "id": "6352d669",
   "metadata": {},
   "outputs": [],
   "source": [
    "class Node:\n",
    "    def __init__(self, value):\n",
    "        self.data = value\n",
    "        self.next = None"
   ]
  },
  {
   "cell_type": "code",
   "execution_count": 23,
   "id": "04b9e11e",
   "metadata": {},
   "outputs": [],
   "source": [
    "class Stack:\n",
    "    # Initializing a stack.\n",
    "    # Use a dummy node:\n",
    "    def __init__(self):\n",
    "        self.head = Node(\"head\")\n",
    "        self.size = 0\n",
    "    \n",
    "    #Return size of a stack\n",
    "    def getSize():\n",
    "        return self.size\n",
    "    \n",
    "    # String representation of the stack\n",
    "    def __str__(self):\n",
    "        cur = self.head.next\n",
    "        out = \"\"\n",
    "        while cur:\n",
    "            out += str(cur.data) + \"->\"\n",
    "            cur = cur.next\n",
    "        return out[:-2]\n",
    "    \n",
    "    #Check if a stack is empty:\n",
    "    def isEmpty(self):\n",
    "        return self.size == 0\n",
    "    \n",
    "    # Get the top item of the stack\n",
    "    def peek(self):\n",
    "        # Sanitary check to see if we\n",
    "        # are peeking an empty stack.\n",
    "        if self.isEmpty():\n",
    "            raise Exception(\"Peeking from an empty stack\")\n",
    "        return self.head.next.value\n",
    "    \n",
    "    # Push a value into the stack.\n",
    "    def push(self, value):\n",
    "        node = Node(value)\n",
    "        node.next = self.head  # Make the new node point to the current head\n",
    "        self.head = node  # Update the head to be the new node\n",
    "        self.size += 1\n",
    "    \n",
    "    # Remove a value from the stack and return.\n",
    "    def pop(self):\n",
    "        if self.isEmpty():\n",
    "            raise Exception(\"Popping from an empty stack\")\n",
    "        remove = self.head.next\n",
    "        self.head.next = self.head.next.next\n",
    "        self.size -= 1\n",
    "        return remove.data\n",
    "    "
   ]
  },
  {
   "cell_type": "code",
   "execution_count": 24,
   "id": "55900e1f",
   "metadata": {},
   "outputs": [
    {
     "name": "stdout",
     "output_type": "stream",
     "text": [
      "Stack: 9->8->7->6->5->4->3->2->1->head\n",
      "Pop: 9\n",
      "Pop: 8\n",
      "Pop: 7\n",
      "Pop: 6\n",
      "Pop: 5\n",
      "Stack: 4->3->2->1->head\n"
     ]
    }
   ],
   "source": [
    "stack = Stack()\n",
    "for i in range(1, 11):\n",
    "    stack.push(i)\n",
    "print(f\"Stack: {stack}\")\n",
    "\n",
    "for _ in range(1, 6):\n",
    "    remove = stack.pop()\n",
    "    print(f\"Pop: {remove}\")\n",
    "print(f\"Stack: {stack}\")"
   ]
  },
  {
   "cell_type": "code",
   "execution_count": null,
   "id": "c30d4241",
   "metadata": {},
   "outputs": [],
   "source": []
  }
 ],
 "metadata": {
  "kernelspec": {
   "display_name": "Python 3 (ipykernel)",
   "language": "python",
   "name": "python3"
  },
  "language_info": {
   "codemirror_mode": {
    "name": "ipython",
    "version": 3
   },
   "file_extension": ".py",
   "mimetype": "text/x-python",
   "name": "python",
   "nbconvert_exporter": "python",
   "pygments_lexer": "ipython3",
   "version": "3.11.5"
  }
 },
 "nbformat": 4,
 "nbformat_minor": 5
}
