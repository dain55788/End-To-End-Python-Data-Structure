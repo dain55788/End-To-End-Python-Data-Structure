{
 "cells": [
  {
   "cell_type": "markdown",
   "id": "9275e139",
   "metadata": {},
   "source": [
    "# Learning various sorting algorithms using Python"
   ]
  },
  {
   "cell_type": "markdown",
   "id": "26647484",
   "metadata": {},
   "source": [
    "## Function used to time our sorting algorithms:"
   ]
  },
  {
   "cell_type": "code",
   "execution_count": 3,
   "id": "0b5a355f",
   "metadata": {},
   "outputs": [],
   "source": [
    "from random import randint\n",
    "from timeit import repeat\n",
    "\n",
    "def run_sorting_algorithm(algorithm, array):\n",
    "    # Set up the context and prepare the call to the specified\n",
    "    # algorithm using the supplied array. Only import the\n",
    "    # algorithm function if it's not the built-in `sorted()`.\n",
    "    setup_code = f\"from __main__ import {algorithm}\" \\\n",
    "        if algorithm != \"sorted\" else \"\"\n",
    "    stmt = f\"{algorithm}({array})\"\n",
    "\n",
    "    # Execute the code ten different times and return the time\n",
    "    # in seconds that each execution took\n",
    "    times = repeat(setup=setup_code, stmt=stmt, repeat=3, number=10)\n",
    "\n",
    "    # Finally, display the name of the algorithm and the\n",
    "    # minimum time it took to run\n",
    "    print(f\"Algorithm: {algorithm}. Minimum execution time: {min(times)}\")"
   ]
  },
  {
   "cell_type": "code",
   "execution_count": 4,
   "id": "e9d500ab",
   "metadata": {},
   "outputs": [
    {
     "name": "stdout",
     "output_type": "stream",
     "text": [
      "Algorithm: sorted. Minimum execution time: 0.00051099993288517\n"
     ]
    }
   ],
   "source": [
    "# Example:\n",
    "ARRAY_LENGTH = 1000\n",
    "array = [randint(0, 1000) for i in range(ARRAY_LENGTH)]\n",
    "# Call the function using the name of the sorting algorithm\n",
    "# and the array you just created\n",
    "run_sorting_algorithm(algorithm=\"sorted\", array=array)"
   ]
  },
  {
   "cell_type": "markdown",
   "id": "6224ea52",
   "metadata": {},
   "source": [
    "## Measuring Efficiency With Big O Notation"
   ]
  },
  {
   "cell_type": "markdown",
   "id": "ee5f3f23",
   "metadata": {},
   "source": [
    "### O(1)\tconstant\n",
    "### O(n)\tlinear\n",
    "### O(n**2)\tquadratic\n",
    "### O(2**n)\texponential\n",
    "### O(log n)\tlogarithmic"
   ]
  },
  {
   "cell_type": "code",
   "execution_count": 5,
   "id": "e48ecf00",
   "metadata": {},
   "outputs": [],
   "source": [
    "def print_array(array):\n",
    "    for i in range(len(array)):\n",
    "        print(array[i])"
   ]
  },
  {
   "cell_type": "markdown",
   "id": "0cfcc95c",
   "metadata": {},
   "source": [
    "## The Bubble Sort Algorithm in Python"
   ]
  },
  {
   "cell_type": "code",
   "execution_count": 6,
   "id": "f13e908b",
   "metadata": {},
   "outputs": [
    {
     "name": "stdout",
     "output_type": "stream",
     "text": [
      "56\n",
      "2\n",
      "86\n",
      "38\n",
      "43\n",
      "15\n",
      "18\n",
      "88\n",
      "13\n",
      "70\n"
     ]
    }
   ],
   "source": [
    "## Bubble sort:\n",
    "MAX_ARRAY = 10\n",
    "array = [randint(0, 100) for i in range(MAX_ARRAY)]\n",
    "print_array(array)"
   ]
  },
  {
   "cell_type": "code",
   "execution_count": 17,
   "id": "bf456a4f",
   "metadata": {},
   "outputs": [],
   "source": [
    "already_sorted = False\n",
    "n = len(array)\n",
    "def bubble_sort(array):\n",
    "    for i in range(n):\n",
    "        already_sorted = True\n",
    "        for j in range(n - i - 1):\n",
    "            if array[j] > array[j+1]:\n",
    "                array[j], array[j+1] = array[j + 1], array[j]\n",
    "                already_sorted = False\n",
    "        if already_sorted:\n",
    "            break\n",
    "    return array"
   ]
  },
  {
   "cell_type": "code",
   "execution_count": 18,
   "id": "865b5e6d",
   "metadata": {},
   "outputs": [
    {
     "name": "stdout",
     "output_type": "stream",
     "text": [
      "Array after bubble sort: \n",
      "0\n",
      "28\n",
      "37\n",
      "40\n",
      "42\n",
      "43\n",
      "47\n",
      "52\n",
      "80\n",
      "100\n",
      "Algorithm: bubble_sort. Minimum execution time: 1.3899989426136017e-05\n"
     ]
    }
   ],
   "source": [
    "#print result and time the algorithm :\n",
    "bubble_sort(array)\n",
    "print(\"Array after bubble sort: \")\n",
    "print_array(array)\n",
    "run_sorting_algorithm(algorithm=\"bubble_sort\", array=array)"
   ]
  },
  {
   "cell_type": "markdown",
   "id": "503add1e",
   "metadata": {},
   "source": [
    "## The Insertion Sort Algorithm in Python"
   ]
  },
  {
   "cell_type": "code",
   "execution_count": 19,
   "id": "e8ebe6b1",
   "metadata": {},
   "outputs": [],
   "source": [
    "def insertion_sort(array):\n",
    "    for i in range(1, n):\n",
    "        key_item = array[i]\n",
    "        j = i - 1\n",
    "        while j >= 0 and array[j] > key_item:\n",
    "            array[j+1] = array[j]\n",
    "            j -= 1\n",
    "        array[j + 1] = key_item\n",
    "        \n",
    "    return array"
   ]
  },
  {
   "cell_type": "code",
   "execution_count": 20,
   "id": "c753130f",
   "metadata": {},
   "outputs": [
    {
     "name": "stdout",
     "output_type": "stream",
     "text": [
      "Array after insertion sort: \n",
      "0\n",
      "28\n",
      "37\n",
      "40\n",
      "42\n",
      "43\n",
      "47\n",
      "52\n",
      "80\n",
      "100\n",
      "Algorithm: insertion_sort. Minimum execution time: 7.999944500625134e-06\n"
     ]
    }
   ],
   "source": [
    "#print result and time the algorithm:\n",
    "insertion_sort(array)\n",
    "print(\"Array after insertion sort: \")\n",
    "print_array(array)\n",
    "run_sorting_algorithm(algorithm=\"insertion_sort\", array=array)"
   ]
  },
  {
   "cell_type": "markdown",
   "id": "78f97c61",
   "metadata": {},
   "source": [
    "## The Selection Sort Algorithm in Python"
   ]
  },
  {
   "cell_type": "code",
   "execution_count": 13,
   "id": "8c0ba223",
   "metadata": {},
   "outputs": [],
   "source": [
    "n = len(array)\n",
    "def selection_sort(array):\n",
    "    for i in range(n - 1):\n",
    "        min_pos = i\n",
    "        for j in range(i+1, n):\n",
    "            if array[j] < array[min_pos]:\n",
    "                min_pos = j\n",
    "        array[min_pos], array[i] = array[i], array[min_pos]\n",
    "    return array"
   ]
  },
  {
   "cell_type": "code",
   "execution_count": 14,
   "id": "d836c047",
   "metadata": {},
   "outputs": [
    {
     "name": "stdout",
     "output_type": "stream",
     "text": [
      "Array after selection sort: \n",
      "6\n",
      "10\n",
      "23\n",
      "24\n",
      "29\n",
      "37\n",
      "41\n",
      "50\n",
      "50\n",
      "83\n",
      "Algorithm: selection_sort. Minimum execution time: 5.3799943998456e-05\n"
     ]
    }
   ],
   "source": [
    "#print result and time the algorithm:\n",
    "selection_sort(array)\n",
    "print(\"Array after selection sort: \")\n",
    "print_array(array)\n",
    "run_sorting_algorithm(algorithm=\"selection_sort\", array=array)"
   ]
  },
  {
   "cell_type": "markdown",
   "id": "03236aa2",
   "metadata": {},
   "source": [
    "## The Interchange Sort Algorithm in Python"
   ]
  },
  {
   "cell_type": "code",
   "execution_count": 15,
   "id": "7eeb791e",
   "metadata": {},
   "outputs": [],
   "source": [
    "def interchange_sort(array):\n",
    "    for i in range(n-1):\n",
    "        for j in range(i+1, n):\n",
    "            if array[i] > array[j]:\n",
    "                array[j], array[i] = array[i], array[j]"
   ]
  },
  {
   "cell_type": "code",
   "execution_count": 16,
   "id": "05244532",
   "metadata": {
    "scrolled": true
   },
   "outputs": [
    {
     "name": "stdout",
     "output_type": "stream",
     "text": [
      "Array after selection sort: \n",
      "6\n",
      "10\n",
      "23\n",
      "24\n",
      "29\n",
      "37\n",
      "41\n",
      "50\n",
      "50\n",
      "83\n",
      "Algorithm: interchange_sort. Minimum execution time: 0.00011769996490329504\n"
     ]
    }
   ],
   "source": [
    "#print result and time the algorithm:\n",
    "interchange_sort(array)\n",
    "print(\"Array after interchange sort: \")\n",
    "print_array(array)\n",
    "run_sorting_algorithm(algorithm=\"interchange_sort\", array=array)"
   ]
  },
  {
   "cell_type": "markdown",
   "id": "f92f13b7",
   "metadata": {},
   "source": [
    "## The Quick Sort Algorithm in Python"
   ]
  },
  {
   "cell_type": "code",
   "execution_count": 35,
   "id": "fe814184",
   "metadata": {},
   "outputs": [],
   "source": [
    "from random import randint\n",
    "def quick_sort(array):\n",
    "    # If the input array contains fewer than two elements,\n",
    "    # then return it as the result of the function\n",
    "    if len(array) < 2:\n",
    "        return array\n",
    "\n",
    "    lower_vals, same_vals, higher_vals = [], [], []\n",
    "\n",
    "    # Select your `pivot` element randomly\n",
    "    pivot = array[randint(0, len(array) - 1)]\n",
    "\n",
    "    for item in array:\n",
    "        # Elements that are smaller than the `pivot` go to\n",
    "        # the `low` list. Elements that are larger than\n",
    "        # `pivot` go to the `high` list. Elements that are\n",
    "        # equal to `pivot` go to the `same` list.\n",
    "        if item < pivot:\n",
    "            lower_vals.append(item)\n",
    "        elif item == pivot:\n",
    "            same_vals.append(item)\n",
    "        elif item > pivot:\n",
    "            higher_vals.append(item)\n",
    "\n",
    "    # The final result combines the sorted `low` list\n",
    "    # with the `same` list and the sorted `high` list\n",
    "    return quick_sort(lower_vals) + same_vals + quick_sort(higher_vals)"
   ]
  },
  {
   "cell_type": "code",
   "execution_count": 37,
   "id": "ca4430d9",
   "metadata": {},
   "outputs": [
    {
     "name": "stdout",
     "output_type": "stream",
     "text": [
      "Array after quick sort: \n",
      "8\n",
      "21\n",
      "29\n",
      "36\n",
      "45\n",
      "47\n",
      "54\n",
      "62\n",
      "69\n",
      "92\n",
      "Algorithm: quick_sort. Minimum execution time: 6.450002547353506e-05\n"
     ]
    }
   ],
   "source": [
    "#print result and time the algorithm:\n",
    "print(\"Array after quick sort: \")\n",
    "print_array(quick_sort(array))\n",
    "run_sorting_algorithm(algorithm=\"quick_sort\", array=array)"
   ]
  },
  {
   "cell_type": "markdown",
   "id": "aeac6288",
   "metadata": {},
   "source": [
    "## The Heap Sort Algorithm:"
   ]
  },
  {
   "cell_type": "code",
   "execution_count": 11,
   "id": "6cf65a07",
   "metadata": {},
   "outputs": [],
   "source": [
    "def heapify(array, n, i):\n",
    "    largest = i  # Initialize largest as root\n",
    "    l = 2 * i + 1  # left = 2*i + 1\n",
    "    r = 2 * i + 2  # right = 2*i + 2\n",
    " \n",
    " # See if left child of root exists and is\n",
    " # greater than root\n",
    " \n",
    "    if l < n and array[i] < array[l]:\n",
    "        largest = l\n",
    " \n",
    " # See if right child of root exists and is\n",
    " # greater than root\n",
    " \n",
    "    if r < n and array[largest] < array[r]:\n",
    "        largest = r\n",
    " \n",
    " # Change root, if needed\n",
    " \n",
    "    if largest != i:\n",
    "        (array[i], array[largest]) = (array[largest], array[i])  # swap\n",
    " \n",
    "  # Heapify the root.\n",
    " \n",
    "        heapify(array, n, largest)\n",
    " \n",
    " \n",
    "# The main function to sort an array of given size\n",
    " \n",
    "def heap_sort(array):\n",
    "    n = len(array)\n",
    " \n",
    " # Build a maxheap.\n",
    " # Since last parent will be at (n//2) we can start at that location.\n",
    " \n",
    "    for i in range(n // 2, -1, -1):\n",
    "        heapify(array, n, i)\n",
    " \n",
    " # One by one extract elements\n",
    " \n",
    "    for i in range(n - 1, 0, -1):\n",
    "        (array[i], array[0]) = (array[0], array[i])\n",
    "        heapify(array, i, 0)"
   ]
  },
  {
   "cell_type": "code",
   "execution_count": 13,
   "id": "8ce66be0",
   "metadata": {},
   "outputs": [
    {
     "name": "stdout",
     "output_type": "stream",
     "text": [
      "Array after heap sort: \n",
      "5\n",
      "7\n",
      "16\n",
      "30\n",
      "41\n",
      "48\n",
      "55\n",
      "84\n",
      "89\n",
      "89\n",
      "Algorithm: heap_sort. Minimum execution time: 0.0004078000783920288\n"
     ]
    }
   ],
   "source": [
    "#print result and time the algorithm:\n",
    "print(\"Array after heap sort: \")\n",
    "heap_sort(array)\n",
    "print_array(array)\n",
    "run_sorting_algorithm(algorithm=\"heap_sort\", array=array)"
   ]
  },
  {
   "cell_type": "code",
   "execution_count": 14,
   "id": "f745f95b",
   "metadata": {},
   "outputs": [
    {
     "name": "stdout",
     "output_type": "stream",
     "text": [
      "Input Array:  [60, 20, 40, 70, 30, 10]\n",
      "Sorted Array:  [10, 20, 30, 40, 60, 70]\n"
     ]
    }
   ],
   "source": [
    "# Heap sort using library:\n",
    "import heapq\n",
    " \n",
    "# Function to perform the sorting using\n",
    "# heaop sort\n",
    "def heap_sort(arr):\n",
    "    heapq.heapify(arr)\n",
    "    result = []\n",
    "    while arr:\n",
    "        result.append(heapq.heappop(arr))\n",
    "    return result\n",
    "   \n",
    "# Driver Code\n",
    "arr = [60, 20, 40, 70, 30, 10]\n",
    "print(\"Input Array: \", arr)\n",
    "print(\"Sorted Array: \", heap_sort(arr))"
   ]
  },
  {
   "cell_type": "code",
   "execution_count": 1,
   "id": "4945234a",
   "metadata": {},
   "outputs": [],
   "source": [
    "def merge(left, right):\n",
    "    # If the first array is empty, then nothing needs\n",
    "    # to be merged, and you can return the second array as the result\n",
    "    if len(left) == 0:\n",
    "        return right\n",
    "\n",
    "    # If the second array is empty, then nothing needs\n",
    "    # to be merged, and you can return the first array as the result\n",
    "    if len(right) == 0:\n",
    "        return left\n",
    "\n",
    "    result = []\n",
    "    index_left = index_right = 0\n",
    "\n",
    "    # Now go through both arrays until all the elements\n",
    "    # make it into the resultant array\n",
    "    while len(result) < len(left) + len(right):\n",
    "        # The elements need to be sorted to add them to the\n",
    "        # resultant array, so you need to decide whether to get\n",
    "        # the next element from the first or the second array\n",
    "        if left[index_left] <= right[index_right]:\n",
    "            result.append(left[index_left])\n",
    "            index_left += 1\n",
    "        else:\n",
    "            result.append(right[index_right])\n",
    "            index_right += 1\n",
    "\n",
    "        # If you reach the end of either array, then you can\n",
    "        # add the remaining elements from the other array to\n",
    "        # the result and break the loop\n",
    "        if index_right == len(right):\n",
    "            result += left[index_left:]\n",
    "            break\n",
    "\n",
    "        if index_left == len(left):\n",
    "            result += right[index_right:]\n",
    "            break\n",
    "\n",
    "    return result"
   ]
  },
  {
   "cell_type": "code",
   "execution_count": 2,
   "id": "d1d924e5",
   "metadata": {},
   "outputs": [],
   "source": [
    "def merge_sort(array):\n",
    "    # If the input array contains fewer than two elements,\n",
    "    # then return it as the result of the function\n",
    "    if len(array) < 2:\n",
    "        return array\n",
    "\n",
    "    midpoint = len(array) // 2\n",
    "\n",
    "    # Sort the array by recursively splitting the input\n",
    "    # into two equal halves, sorting each half and merging them\n",
    "    # together into the final result\n",
    "    return merge(\n",
    "        left=merge_sort(array[:midpoint]),\n",
    "        right=merge_sort(array[midpoint:]))"
   ]
  },
  {
   "cell_type": "code",
   "execution_count": 8,
   "id": "39d86714",
   "metadata": {},
   "outputs": [
    {
     "name": "stdout",
     "output_type": "stream",
     "text": [
      "Array after merge sort: \n",
      "2\n",
      "13\n",
      "15\n",
      "18\n",
      "38\n",
      "43\n",
      "56\n",
      "70\n",
      "86\n",
      "88\n",
      "Algorithm: merge_sort. Minimum execution time: 8.330005221068859e-05\n"
     ]
    }
   ],
   "source": [
    "#print result and time the algorithm:\n",
    "print(\"Array after merge sort: \")\n",
    "print_array(merge_sort(array))\n",
    "run_sorting_algorithm(algorithm=\"merge_sort\", array=array)"
   ]
  },
  {
   "cell_type": "code",
   "execution_count": null,
   "id": "3b52be19",
   "metadata": {},
   "outputs": [],
   "source": []
  }
 ],
 "metadata": {
  "kernelspec": {
   "display_name": "Python 3 (ipykernel)",
   "language": "python",
   "name": "python3"
  },
  "language_info": {
   "codemirror_mode": {
    "name": "ipython",
    "version": 3
   },
   "file_extension": ".py",
   "mimetype": "text/x-python",
   "name": "python",
   "nbconvert_exporter": "python",
   "pygments_lexer": "ipython3",
   "version": "3.11.5"
  }
 },
 "nbformat": 4,
 "nbformat_minor": 5
}
