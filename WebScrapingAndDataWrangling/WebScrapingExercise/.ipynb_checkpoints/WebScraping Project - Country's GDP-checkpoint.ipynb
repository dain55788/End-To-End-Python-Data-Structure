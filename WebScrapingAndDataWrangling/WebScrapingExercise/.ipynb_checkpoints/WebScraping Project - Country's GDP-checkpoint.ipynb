{
 "cells": [
  {
   "cell_type": "markdown",
   "id": "f1d3d8fc",
   "metadata": {},
   "source": [
    "# Web Scraping Project : List of countries by GDP"
   ]
  },
  {
   "cell_type": "markdown",
   "id": "f29790bb",
   "metadata": {},
   "source": [
    "## Target : create a complete <span style = \"color : red;\">ETL pipeline</span> for accessing data from a website <span style = \"color : red;\">(using pandas, sqlite3, Beautiful Soup) </span>"
   ]
  },
  {
   "cell_type": "markdown",
   "id": "63a4f4b8",
   "metadata": {},
   "source": [
    "## Webpage : https://web.archive.org/web/20230902185326/https://en.wikipedia.org/wiki/List_of_countries_by_GDP_%28nominal%29"
   ]
  },
  {
   "cell_type": "markdown",
   "id": "1b07624e",
   "metadata": {},
   "source": [
    "## Extract data from this table :"
   ]
  },
  {
   "cell_type": "markdown",
   "id": "df864d58",
   "metadata": {},
   "source": [
    "<img src = \"CountryByGDP.png\" height = 500 width = 500>"
   ]
  },
  {
   "cell_type": "code",
   "execution_count": 2,
   "id": "001ed6fa",
   "metadata": {},
   "outputs": [],
   "source": [
    "# Import necessary libraries/ modules\n",
    "from bs4 import BeautifulSoup\n",
    "import requests\n",
    "import pandas as pd\n",
    "import numpy as np\n",
    "import sqlite3\n",
    "from datetime import datetime "
   ]
  },
  {
   "cell_type": "code",
   "execution_count": 3,
   "id": "be191720",
   "metadata": {},
   "outputs": [],
   "source": [
    "# Extraction phase:\n",
    "def extract(url, table_attribs):\n",
    "    page = requests.get(url).text\n",
    "    data = BeautifulSoup(page,'html.parser')\n",
    "    df = pd.DataFrame(columns=table_attribs)\n",
    "    tables = data.find_all('tbody')\n",
    "    rows = tables[2].find_all('tr')\n",
    "    for row in rows:\n",
    "        col = row.find_all('td')\n",
    "        if len(col)!=0:\n",
    "            if col[0].find('a') is not None and '—' not in col[2]:\n",
    "                data_dict = {\"Country\": col[0].a.contents[0],\n",
    "                             \"GDP_USD_millions\": col[2].contents[0]}\n",
    "                df1 = pd.DataFrame(data_dict, index=[0])\n",
    "                df = pd.concat([df,df1], ignore_index=True)\n",
    "    return df"
   ]
  },
  {
   "cell_type": "code",
   "execution_count": 4,
   "id": "16ed26cf",
   "metadata": {},
   "outputs": [],
   "source": [
    "# Transformation phase:\n",
    "def transform(df):\n",
    "    GDP_list = df[\"GDP_USD_millions\"].tolist()\n",
    "    GDP_list = [float(\"\".join(x.split(','))) for x in GDP_list]\n",
    "    GDP_list = [np.round(x/1000,2) for x in GDP_list]\n",
    "    df[\"GDP_USD_millions\"] = GDP_list\n",
    "    df=df.rename(columns = {\"GDP_USD_millions\":\"GDP_USD_billions\"})\n",
    "    return df"
   ]
  },
  {
   "cell_type": "code",
   "execution_count": 5,
   "id": "3d5ddc9f",
   "metadata": {},
   "outputs": [],
   "source": [
    "# Loading phase\n",
    "# to CSV\n",
    "def load_to_csv(df, csv_path):\n",
    "    df.to_csv(csv_path)\n",
    "\n",
    "# to database\n",
    "def load_to_db(df, sql_connection, table_name):\n",
    "    df.to_sql(table_name, sql_connection, if_exists='replace', index=False)"
   ]
  },
  {
   "cell_type": "code",
   "execution_count": 6,
   "id": "18b55ba2",
   "metadata": {},
   "outputs": [],
   "source": [
    "# Logging\n",
    "def log_progress(message):\n",
    "    timestamp_format = '%Y-%h-%d-%H:%M:%S' # Year-Monthname-Day-Hour-Minute-Second \n",
    "    now = datetime.now() # get current timestamp \n",
    "    timestamp = now.strftime(timestamp_format) \n",
    "    with open(\"./etl_project_log.txt\",\"a\") as f: \n",
    "        f.write(timestamp + ' : ' + message + '\\n')"
   ]
  },
  {
   "cell_type": "code",
   "execution_count": 7,
   "id": "6f28a73d",
   "metadata": {},
   "outputs": [],
   "source": [
    "# Running basic queries\n",
    "def run_query(query_statement, sql_connection):\n",
    "    print(query_statement)\n",
    "    query_output = pd.read_sql(query_statement, sql_connection)\n",
    "    print(query_output)"
   ]
  },
  {
   "cell_type": "code",
   "execution_count": 8,
   "id": "817fdb4b",
   "metadata": {},
   "outputs": [],
   "source": [
    "# Initialization\n",
    "url = 'https://web.archive.org/web/20230902185326/https://en.wikipedia.org/wiki/List_of_countries_by_GDP_%28nominal%29'\n",
    "table_attribs = [\"Country\", \"GDP_USD_millions\"]\n",
    "db_name = 'World_Economies.db'\n",
    "table_name = 'Countries_by_GDP'\n",
    "csv_path = './Countries_by_GDP.csv'"
   ]
  },
  {
   "cell_type": "code",
   "execution_count": 9,
   "id": "0f421dc7",
   "metadata": {},
   "outputs": [
    {
     "name": "stdout",
     "output_type": "stream",
     "text": [
      "SELECT * from Countries_by_GDP\n",
      "              Country  GDP_USD_billions\n",
      "0       United States          26854.60\n",
      "1               China          19373.59\n",
      "2               Japan           4409.74\n",
      "3             Germany           4308.85\n",
      "4               India           3736.88\n",
      "..                ...               ...\n",
      "186  Marshall Islands              0.29\n",
      "187             Palau              0.26\n",
      "188          Kiribati              0.25\n",
      "189             Nauru              0.15\n",
      "190            Tuvalu              0.06\n",
      "\n",
      "[191 rows x 2 columns]\n"
     ]
    }
   ],
   "source": [
    "# Main function :\n",
    "log_progress('Preliminaries complete. Initiating ETL process')\n",
    "\n",
    "# Extraction\n",
    "df = extract(url, table_attribs)\n",
    "log_progress('Data extraction complete. Initiating Transformation process')\n",
    "\n",
    "# Transformation\n",
    "df = transform(df)\n",
    "log_progress('Data transformation complete. Initiating loading process')\n",
    "\n",
    "# Loading into CSV and database\n",
    "load_to_csv(df, csv_path)\n",
    "log_progress('Data saved to CSV file')\n",
    "sql_connection = sqlite3.connect('World_Economies.db')\n",
    "log_progress('SQL Connection initiated.')\n",
    "load_to_db(df, sql_connection, table_name)\n",
    "\n",
    "# Logging\n",
    "log_progress('Data loaded to Database as table. Running the query')\n",
    "query_statement = f\"SELECT * from {table_name}\"\n",
    "run_query(query_statement, sql_connection)\n",
    "log_progress('Process Complete.')\n",
    "\n",
    "# Close the connection to database\n",
    "sql_connection.close()"
   ]
  },
  {
   "cell_type": "code",
   "execution_count": 10,
   "id": "46d88662",
   "metadata": {},
   "outputs": [
    {
     "data": {
      "text/html": [
       "<div>\n",
       "<style scoped>\n",
       "    .dataframe tbody tr th:only-of-type {\n",
       "        vertical-align: middle;\n",
       "    }\n",
       "\n",
       "    .dataframe tbody tr th {\n",
       "        vertical-align: top;\n",
       "    }\n",
       "\n",
       "    .dataframe thead th {\n",
       "        text-align: right;\n",
       "    }\n",
       "</style>\n",
       "<table border=\"1\" class=\"dataframe\">\n",
       "  <thead>\n",
       "    <tr style=\"text-align: right;\">\n",
       "      <th></th>\n",
       "      <th>Country</th>\n",
       "      <th>GDP_USD_billions</th>\n",
       "    </tr>\n",
       "  </thead>\n",
       "  <tbody>\n",
       "    <tr>\n",
       "      <th>0</th>\n",
       "      <td>United States</td>\n",
       "      <td>26854.60</td>\n",
       "    </tr>\n",
       "    <tr>\n",
       "      <th>1</th>\n",
       "      <td>China</td>\n",
       "      <td>19373.59</td>\n",
       "    </tr>\n",
       "    <tr>\n",
       "      <th>2</th>\n",
       "      <td>Japan</td>\n",
       "      <td>4409.74</td>\n",
       "    </tr>\n",
       "    <tr>\n",
       "      <th>3</th>\n",
       "      <td>Germany</td>\n",
       "      <td>4308.85</td>\n",
       "    </tr>\n",
       "    <tr>\n",
       "      <th>4</th>\n",
       "      <td>India</td>\n",
       "      <td>3736.88</td>\n",
       "    </tr>\n",
       "    <tr>\n",
       "      <th>...</th>\n",
       "      <td>...</td>\n",
       "      <td>...</td>\n",
       "    </tr>\n",
       "    <tr>\n",
       "      <th>186</th>\n",
       "      <td>Marshall Islands</td>\n",
       "      <td>0.29</td>\n",
       "    </tr>\n",
       "    <tr>\n",
       "      <th>187</th>\n",
       "      <td>Palau</td>\n",
       "      <td>0.26</td>\n",
       "    </tr>\n",
       "    <tr>\n",
       "      <th>188</th>\n",
       "      <td>Kiribati</td>\n",
       "      <td>0.25</td>\n",
       "    </tr>\n",
       "    <tr>\n",
       "      <th>189</th>\n",
       "      <td>Nauru</td>\n",
       "      <td>0.15</td>\n",
       "    </tr>\n",
       "    <tr>\n",
       "      <th>190</th>\n",
       "      <td>Tuvalu</td>\n",
       "      <td>0.06</td>\n",
       "    </tr>\n",
       "  </tbody>\n",
       "</table>\n",
       "<p>191 rows × 2 columns</p>\n",
       "</div>"
      ],
      "text/plain": [
       "              Country  GDP_USD_billions\n",
       "0       United States          26854.60\n",
       "1               China          19373.59\n",
       "2               Japan           4409.74\n",
       "3             Germany           4308.85\n",
       "4               India           3736.88\n",
       "..                ...               ...\n",
       "186  Marshall Islands              0.29\n",
       "187             Palau              0.26\n",
       "188          Kiribati              0.25\n",
       "189             Nauru              0.15\n",
       "190            Tuvalu              0.06\n",
       "\n",
       "[191 rows x 2 columns]"
      ]
     },
     "execution_count": 10,
     "metadata": {},
     "output_type": "execute_result"
    }
   ],
   "source": [
    "df"
   ]
  }
 ],
 "metadata": {
  "kernelspec": {
   "display_name": "Python 3 (ipykernel)",
   "language": "python",
   "name": "python3"
  },
  "language_info": {
   "codemirror_mode": {
    "name": "ipython",
    "version": 3
   },
   "file_extension": ".py",
   "mimetype": "text/x-python",
   "name": "python",
   "nbconvert_exporter": "python",
   "pygments_lexer": "ipython3",
   "version": "3.11.5"
  }
 },
 "nbformat": 4,
 "nbformat_minor": 5
}
