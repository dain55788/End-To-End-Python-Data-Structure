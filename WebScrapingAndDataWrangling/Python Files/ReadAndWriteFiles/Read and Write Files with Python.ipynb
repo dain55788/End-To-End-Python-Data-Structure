{
 "cells": [
  {
   "cell_type": "markdown",
   "id": "99fc3c46",
   "metadata": {},
   "source": [
    "# Read and Write Files with Python built-in functions:"
   ]
  },
  {
   "cell_type": "markdown",
   "id": "6cac5061",
   "metadata": {},
   "source": [
    "## Read Files:"
   ]
  },
  {
   "cell_type": "code",
   "execution_count": 2,
   "id": "16b5916b",
   "metadata": {},
   "outputs": [],
   "source": [
    "# Open the file in read ('r') mode\n",
    "file = open('DataForPracticing.txt', 'r')"
   ]
  },
  {
   "cell_type": "code",
   "execution_count": 3,
   "id": "7b391c78",
   "metadata": {},
   "outputs": [
    {
     "name": "stdout",
     "output_type": "stream",
     "text": [
      "Plan : My 2024 plan is to accomplish all the Mathematics required for Data Analytics.\n",
      "\n",
      "Plan : Furthermore, Google Data Analyst Certificate is also my target to finish in this 2024.\n",
      "\n",
      "Plan : By saving up to 50 million VND this year, I am able to be financially independent to purchase a new motorbike.\n",
      "\n",
      "Plan : That's it, lets try my best!\n"
     ]
    }
   ],
   "source": [
    "# Read the whole file:\n",
    "while True:\n",
    "    line = file.readline()\n",
    "    if not line:\n",
    "        break  # Stop when there are no more lines to read\n",
    "    print(line)"
   ]
  },
  {
   "cell_type": "code",
   "execution_count": 7,
   "id": "cf2694a2",
   "metadata": {},
   "outputs": [],
   "source": [
    "# Close after file using:\n",
    "file.close()"
   ]
  },
  {
   "cell_type": "code",
   "execution_count": 11,
   "id": "83e04ad2",
   "metadata": {},
   "outputs": [
    {
     "name": "stdout",
     "output_type": "stream",
     "text": [
      "Plan : My 2024 plan is to accomplish all the Mathematics required for Data Analytics.\n",
      "Plan : Furthermore, Google Data Analyst Certificate is also my target to finish in this 2024.\n",
      "Plan : By saving up to 50 million VND this year, I am able to be financially independent to purchase a new motorbike.\n",
      "Plan : That's it, lets try my best!\n"
     ]
    },
    {
     "data": {
      "text/plain": [
       "True"
      ]
     },
     "execution_count": 11,
     "metadata": {},
     "output_type": "execute_result"
    }
   ],
   "source": [
    "# 2nd way to read file using with statement:\n",
    "file_name = \"DataForPracticing.txt\"\n",
    "with open(file_name, \"r\") as file1:\n",
    "    FileContent = file1.read()\n",
    "    print(FileContent)\n",
    "file1.closed"
   ]
  },
  {
   "cell_type": "markdown",
   "id": "ba9b86ef",
   "metadata": {},
   "source": [
    "## Write Files:"
   ]
  },
  {
   "cell_type": "code",
   "execution_count": 13,
   "id": "53ec950d",
   "metadata": {},
   "outputs": [],
   "source": [
    "lines = [\"Plan : My 2024 plan is to accomplish all the Mathematics required for Data Analytics \\n\",\n",
    "\n",
    "        \"Plan : Furthermore, IBM Data Engineering is also my target to finish in this 202\\n\",\n",
    "\n",
    "        \"Plan : By saving up to 50 million VND this year, I am able to be financially independent to purchase a new motorbike \\n\", \n",
    "\n",
    "        \"Plan : That's it, lets try my best!\"]\n",
    "with open(\"DataForPracticing.txt\", \"w\") as write_file:\n",
    "    for line in lines:\n",
    "        write_file.write(line)"
   ]
  },
  {
   "cell_type": "code",
   "execution_count": null,
   "id": "545f56b8",
   "metadata": {},
   "outputs": [],
   "source": []
  }
 ],
 "metadata": {
  "kernelspec": {
   "display_name": "Python 3 (ipykernel)",
   "language": "python",
   "name": "python3"
  },
  "language_info": {
   "codemirror_mode": {
    "name": "ipython",
    "version": 3
   },
   "file_extension": ".py",
   "mimetype": "text/x-python",
   "name": "python",
   "nbconvert_exporter": "python",
   "pygments_lexer": "ipython3",
   "version": "3.11.5"
  }
 },
 "nbformat": 4,
 "nbformat_minor": 5
}
