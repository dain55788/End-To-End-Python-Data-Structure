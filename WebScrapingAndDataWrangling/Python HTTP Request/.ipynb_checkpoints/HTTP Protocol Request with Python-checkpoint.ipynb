{
 "cells": [
  {
   "cell_type": "markdown",
   "id": "c62792dd",
   "metadata": {},
   "source": [
    "## HTTP REQUEST"
   ]
  },
  {
   "cell_type": "markdown",
   "id": "56f561b5",
   "metadata": {},
   "source": [
    "<img src = \"httprequest.png\" width = 500 height = 500>"
   ]
  },
  {
   "cell_type": "code",
   "execution_count": 33,
   "id": "a6f3d7fa",
   "metadata": {},
   "outputs": [
    {
     "name": "stdout",
     "output_type": "stream",
     "text": [
      "Status code of this url : 200\n",
      " URL's headers as a dictionary : \n",
      "{'User-Agent': 'python-requests/2.31.0', 'Accept-Encoding': 'gzip, deflate, br', 'Accept': '*/*', 'Connection': 'keep-alive', 'Cookie': '_abck=2D19DF834283C13D0276AB997ED1DCEE~-1~YAAQVFnKF0nqu++PAQAAThdZJAwCVs+Qenif0NerAiUtPU1RvykQ6uM2tTgoFNSWqMplPdPeXhyAVa8hqEmcjetucgIhqGe4mKbVXMWB5wFs3J70/fT46Lk4x/WNe0oxuS51WJJOhyTYvVOV4HHKeGJL8iCaaQE342pLiWDM0FtBjeLLaqs36pkvMz6+3AwE5lsccSnC+xHfxb0GXFLe47tG82EchxWZK4Ks2qVB9EpShMnTsuD4umVbRSH6nelwzhCA/lnI731YYPwMBOJGow1o0t0dlXv5qpctcLhTQxLCl0dAYTl+yn/rQAocSvPk0m0A6rsNmNu+tG+vNvW+oSbP499JfOUnybrZ14j8rMWJRwAUkJU=~-1~-1~-1; bm_sz=601B798B8776E0F5CB190436D4DF47E5~YAAQVFnKF0rqu++PAQAAThdZJBiDXWyeeOc9ESM60WRFoYvrlrhABgCYZDhpeJcKaXLdQZRc3hF6oaVO/VUXZoHAKzJz4r5sCjTHbzO3YH1fR2SmzBH9hXxiC6oq3jLVEFXOJtNbMygTh/axdwL3rq9g8ZKXILbVDlIZ4MxsgZB0r3D8asUQMF6TFCKtR7eiH4Wx/N5mEIJoMXBwMlG4mQAwgvXD8XuknfMyKdUaWI4nMmH8kIerDKiZOZ2niT9E8hIsx7swTwFVLpBmEhx314CjPafMlgZj1JmG+4W5/KopKdyY9Y0JWcWHgKH2LokhqiHeTcynXIdQlJXWsJBiSkBkuCL32U2NccJVjdSJT1bqOXwN9oeZelErmq0NLtHY5oQWug==~3425073~3555633'}\n",
      "Encoding : utf-8\n"
     ]
    }
   ],
   "source": [
    "# Import request library:\n",
    "import requests\n",
    "url = 'https://www.ibm.com/'\n",
    "r = requests.get(url)\n",
    "print(\"Status code of this url : {}\".format(r.status_code))\n",
    "print(\" URL's headers as a dictionary : \\n{}\".format(r.request.headers))\n",
    "print(\"Encoding : {}\".format(r.encoding))"
   ]
  },
  {
   "cell_type": "code",
   "execution_count": 9,
   "id": "9c7392a4",
   "metadata": {},
   "outputs": [
    {
     "data": {
      "text/plain": [
       "'\\n<!DOCTYPE HTML>\\n<html lang=\"en-us\">\\n<head>\\r\\n    \\r\\n    \\r\\n    \\r\\n    \\r\\n    \\r\\n    \\r\\n    <meta charset=\"UTF-8\"/>\\r\\n    <meta name=\"languageCode\" content=\"en\"/>\\r\\n    <meta name=\"countryCode\" content=\"us\"/>\\r\\n    <meta name=\"searchTitle\" content=\"IBM - United States\"/>\\r\\n    <meta name=\"focusArea\" content=\"Cross IBM - All\"/>\\r\\n    <title>IBM - United States</title>\\r\\n    <link rel=\"icon\" href=\"/content/dam/adobe-cms/default-images/favicon.svg\"/>\\r\\n    \\r\\n    <meta name=\"description\" content=\"For more than a century, IBM has been a global technology innovator, leading advances in AI, automation and hybrid cloud solutions that help businesses grow.\"/>\\r\\n    <meta name=\"template\" content=\"full-width-layout\"/>\\r\\n    <meta name=\"viewport\" content=\"width=device-width, initial-scale=1\"/>\\r\\n    <meta name=\"robots\" content=\"index, follow\"/>\\r\\n    \\r\\n      \\r\\n    <link rel=\"canonical\" href=\"https://www.ibm.com/\"/>\\r\\n    <style id=\"anti-flicker-style\">\\r\\n        :not(:defined) {\\r\\n          visibility: hidden;\\r\\n      '"
      ]
     },
     "execution_count": 9,
     "metadata": {},
     "output_type": "execute_result"
    }
   ],
   "source": [
    "r.text[0:1000]\n"
   ]
  },
  {
   "cell_type": "code",
   "execution_count": 13,
   "id": "6429365f",
   "metadata": {},
   "outputs": [
    {
     "name": "stdout",
     "output_type": "stream",
     "text": [
      "Date of header : Mon, 17 Jun 2024 03:23:00 GMT\n"
     ]
    }
   ],
   "source": [
    "header = r.headers\n",
    "print(\"Date of header : {}\".format(header['date']))\n"
   ]
  },
  {
   "cell_type": "code",
   "execution_count": 1,
   "id": "8145857f",
   "metadata": {},
   "outputs": [
    {
     "ename": "NameError",
     "evalue": "name 'requests' is not defined",
     "output_type": "error",
     "traceback": [
      "\u001b[1;31m---------------------------------------------------------------------------\u001b[0m",
      "\u001b[1;31mNameError\u001b[0m                                 Traceback (most recent call last)",
      "Cell \u001b[1;32mIn[1], line 7\u001b[0m\n\u001b[0;32m      2\u001b[0m url_get \u001b[38;5;241m=\u001b[39m \u001b[38;5;124m'\u001b[39m\u001b[38;5;124mhttp://httpbin.org/get\u001b[39m\u001b[38;5;124m'\u001b[39m\n\u001b[0;32m      3\u001b[0m payload \u001b[38;5;241m=\u001b[39m {\n\u001b[0;32m      4\u001b[0m     \u001b[38;5;124m\"\u001b[39m\u001b[38;5;124mName\u001b[39m\u001b[38;5;124m\"\u001b[39m : \u001b[38;5;124m\"\u001b[39m\u001b[38;5;124mJosepth Joestar\u001b[39m\u001b[38;5;124m\"\u001b[39m,\n\u001b[0;32m      5\u001b[0m     \u001b[38;5;124m\"\u001b[39m\u001b[38;5;124mID\u001b[39m\u001b[38;5;124m\"\u001b[39m : \u001b[38;5;124m\"\u001b[39m\u001b[38;5;124m123\u001b[39m\u001b[38;5;124m\"\u001b[39m\n\u001b[0;32m      6\u001b[0m }\n\u001b[1;32m----> 7\u001b[0m r1 \u001b[38;5;241m=\u001b[39m \u001b[43mrequests\u001b[49m\u001b[38;5;241m.\u001b[39mget(url_get, params \u001b[38;5;241m=\u001b[39m payload)\n\u001b[0;32m      8\u001b[0m \u001b[38;5;28mprint\u001b[39m(\u001b[38;5;124m\"\u001b[39m\u001b[38;5;124mStatus code : \u001b[39m\u001b[38;5;132;01m{}\u001b[39;00m\u001b[38;5;124m\"\u001b[39m\u001b[38;5;241m.\u001b[39mformat(r1\u001b[38;5;241m.\u001b[39mstatus_code)) \u001b[38;5;66;03m# 200 means successful\u001b[39;00m\n\u001b[0;32m      9\u001b[0m \u001b[38;5;28mprint\u001b[39m(\u001b[38;5;124m\"\u001b[39m\u001b[38;5;124mEncoding : \u001b[39m\u001b[38;5;132;01m{}\u001b[39;00m\u001b[38;5;124m\"\u001b[39m\u001b[38;5;241m.\u001b[39mformat(r1\u001b[38;5;241m.\u001b[39mencoding))\n",
      "\u001b[1;31mNameError\u001b[0m: name 'requests' is not defined"
     ]
    }
   ],
   "source": [
    "# Create Query String with Parameters:\n",
    "url_get = 'http://httpbin.org/get'\n",
    "payload = {\n",
    "    \"Name\" : \"Josepth Joestar\",\n",
    "    \"ID\" : \"123\"\n",
    "}\n",
    "r1 = requests.get(url_get, params = payload)\n",
    "print(\"Status code : {}\".format(r1.status_code)) # 200 means successful\n",
    "print(\"Encoding : {}\".format(r1.encoding))\n",
    "print(r1.text)\n",
    "print(r1.json())"
   ]
  },
  {
   "cell_type": "code",
   "execution_count": null,
   "id": "9e1edad1",
   "metadata": {},
   "outputs": [],
   "source": []
  }
 ],
 "metadata": {
  "kernelspec": {
   "display_name": "Python 3 (ipykernel)",
   "language": "python",
   "name": "python3"
  },
  "language_info": {
   "codemirror_mode": {
    "name": "ipython",
    "version": 3
   },
   "file_extension": ".py",
   "mimetype": "text/x-python",
   "name": "python",
   "nbconvert_exporter": "python",
   "pygments_lexer": "ipython3",
   "version": "3.11.5"
  }
 },
 "nbformat": 4,
 "nbformat_minor": 5
}
