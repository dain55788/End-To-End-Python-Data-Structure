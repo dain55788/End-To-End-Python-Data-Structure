{
 "cells": [
  {
   "cell_type": "markdown",
   "id": "53a43e07",
   "metadata": {},
   "source": [
    "## SOCKETS and HTTP REQUEST in Python"
   ]
  },
  {
   "cell_type": "markdown",
   "id": "7566c783",
   "metadata": {},
   "source": [
    "### Python built-in support for TCP socket and HTTP Request"
   ]
  },
  {
   "cell_type": "code",
   "execution_count": 5,
   "id": "0269d39f",
   "metadata": {},
   "outputs": [
    {
     "name": "stdout",
     "output_type": "stream",
     "text": [
      "HTTP/1.1 200 OK\r\n",
      "Date: Fri, 16 Feb 2024 10:27:31 GMT\r\n",
      "Server: Apache/2.4.52 (Ubuntu)\r\n",
      "Last-Modified: Sat, 13 May 2017 11:22:22 GMT\r\n",
      "ETag: \"a7-54f6609245537\"\r\n",
      "Accept-Ranges: bytes\r\n",
      "Content-Length: 167\r\n",
      "Cache-Control: max-age=0, no-cache, no-store, must-revalidate\r\n",
      "Pragma: no-cache\r\n",
      "Expires: Wed, 11 Jan 1984 05:00:00 GMT\r\n",
      "Connection: close\r\n",
      "Content-Type: text/plain\r\n",
      "\r\n",
      "But soft what light through yonder window breaks\n",
      "It is the east and Juliet is the sun\n",
      "Arise fair sun and kill the envious moon\n",
      "Who is already s\n",
      "ick and pale with grief\n",
      "\n"
     ]
    }
   ],
   "source": [
    "# these are all that it takes to create a TCP socket.\n",
    "import socket\n",
    "my_socket = socket.socket(socket.AF_INET, socket.SOCK_STREAM)\n",
    "my_socket.connect(('data.pr4e.org', 80))\n",
    "# connect method receives two inputs, the first is domain name\n",
    "# the second is port that we want to connect to. (80 is web, 25 is mail ....)\n",
    "\n",
    "# HTTP Request in Python\n",
    "# Constructs an HTTP GET request for the file 'romeo.txt' on the server 'data.pr4e.org'\n",
    "cmd = 'GET http://data.pr4e.org/romeo.txt HTTP/1.0\\r\\n\\r\\n'.encode() # Take the strings and make it into bytes\n",
    "# Sends the HTTP GET request to the server.\n",
    "my_socket.send(cmd)\n",
    "# receive and print data from the server using loop\n",
    "# this is to retrieve the content of the 'romeo.txt' file\n",
    "while(True):\n",
    "    data = my_socket.recv(512)\n",
    "    # if we get the end of the file, simply break out of the loop\n",
    "    if len(data) < 1:\n",
    "        break\n",
    "    print(data.decode()) # Assume using ASCII or UTF-8 to decode\n",
    "my_socket.close()"
   ]
  },
  {
   "cell_type": "code",
   "execution_count": 3,
   "id": "9cb376be",
   "metadata": {},
   "outputs": [
    {
     "name": "stdout",
     "output_type": "stream",
     "text": [
      "HTTP/1.1 200 OK\r\n",
      "Date: Sun, 25 Feb 2024 09:13:55 GMT\r\n",
      "Server: Apache/2.4.52 (Ubuntu)\r\n",
      "Last-Modified: Sat, 13 May 2017 11:22:22 GMT\r\n",
      "ETag: \"1d3-54f6609240717\"\r\n",
      "Accept-Ranges: bytes\r\n",
      "Content-Length: 467\r\n",
      "Cache-Control: max-age=0, no-cache, no-store, must-revalidate\r\n",
      "Pragma: no-cache\r\n",
      "Expires: Wed, 11 Jan 1984 05:00:00 GMT\r\n",
      "Content-Type: text/plain\r\n",
      "\r\n",
      "Why should you learn to write programs?\n",
      "\n",
      "Writing programs (or programming) is a very creative \n",
      "and rewarding activity.  You can write programs for \n",
      "many reasons, ranging from making your living to solving\n",
      "a difficult data analysis problem to having fun to helping\n",
      "someone else solve a problem.  This book assumes that \n",
      "everyone needs to know how to program, and that once \n",
      "you know how to program you will figure out what you want \n",
      "to do with your newfound skills.  \n"
     ]
    }
   ],
   "source": [
    "# dòng code này tạo một yêu cầu HTTP GET đầy đủ với đường dẫn tương đối\n",
    "#, header Host, và kết thúc yêu cầu để được gửi đến máy chủ data.pr4e.org.\n",
    "import socket\n",
    "mysock = socket.socket(socket.AF_INET, socket.SOCK_STREAM)\n",
    "mysock.connect(('data.pr4e.org', 80))\n",
    "cmd = 'GET /intro-short.txt HTTP/1.1\\r\\nHost: data.pr4e.org\\r\\n\\r\\n'.encode()\n",
    "mysock.send(cmd)\n",
    "\n",
    "while True:\n",
    "    data = mysock.recv(512)\n",
    "    if len(data) < 1:\n",
    "        break\n",
    "    print(data.decode(),end='')\n",
    "\n",
    "mysock.close()"
   ]
  },
  {
   "cell_type": "code",
   "execution_count": null,
   "id": "f1adb2f4",
   "metadata": {},
   "outputs": [],
   "source": []
  }
 ],
 "metadata": {
  "kernelspec": {
   "display_name": "Python 3 (ipykernel)",
   "language": "python",
   "name": "python3"
  },
  "language_info": {
   "codemirror_mode": {
    "name": "ipython",
    "version": 3
   },
   "file_extension": ".py",
   "mimetype": "text/x-python",
   "name": "python",
   "nbconvert_exporter": "python",
   "pygments_lexer": "ipython3",
   "version": "3.11.5"
  }
 },
 "nbformat": 4,
 "nbformat_minor": 5
}
