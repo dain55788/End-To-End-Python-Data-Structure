{
 "cells": [
  {
   "cell_type": "markdown",
   "id": "9058d5c5",
   "metadata": {},
   "source": [
    "## Regular Expressions in Python"
   ]
  },
  {
   "cell_type": "markdown",
   "id": "424d1798",
   "metadata": {},
   "source": [
    "### Regular Expressions is a language of 'marker characters' - programming with language.\n"
   ]
  },
  {
   "cell_type": "markdown",
   "id": "fae7c719",
   "metadata": {},
   "source": [
    "### Regular Expressions QUICK GUIDE:"
   ]
  },
  {
   "cell_type": "code",
   "execution_count": 1,
   "id": "4258119c",
   "metadata": {},
   "outputs": [],
   "source": [
    "# ^ : matches the BEGINNING of a line\n",
    "# $ : matches the END of the line\n",
    "# . : matches any character\n",
    "# \\s : matches white space\n",
    "# \\S : matches any 'non-whitespace' character\n",
    "# * : repeats a character zero or more times\n",
    "# *? : repeats a character zero or more times (non-greedy)\n",
    "# + : repeats character one or more times\n",
    "# +? : repeats a character one or more times (non-greedy)\n",
    "# [aeiou] : matches a single character in the listed SET\n",
    "# [^XXYZ] : matches a single character NOT IN the listed SET\n",
    "# [a-z0-9] : the set of characters that include a RANGE"
   ]
  },
  {
   "cell_type": "code",
   "execution_count": 2,
   "id": "e5333a4c",
   "metadata": {},
   "outputs": [],
   "source": [
    "# Import re before using\n",
    "# Use re.search() to see if a string matches a regular expression,\n",
    "# similar to using find() method for string"
   ]
  },
  {
   "cell_type": "code",
   "execution_count": 3,
   "id": "2117072d",
   "metadata": {},
   "outputs": [],
   "source": [
    "# re.findall() to extract portions of a string that match our regular expression."
   ]
  },
  {
   "cell_type": "code",
   "execution_count": 4,
   "id": "363aecbf",
   "metadata": {},
   "outputs": [
    {
     "name": "stdout",
     "output_type": "stream",
     "text": [
      "Invalid email format.\n"
     ]
    }
   ],
   "source": [
    "# EXAMPLE 1 : USING REGULAR EXPRESSION TO CHECK THE EMAIL FORMAT.\n",
    "import re\n",
    "def check_email(email):\n",
    "    pattern = r'^[a-zA-z0-9._-]+@[a-zA-Z0-9.-]+\\.[a-zA-Z]{2, 4}$'\n",
    "    if re.match(pattern, email):\n",
    "        return \"Valid email.\"\n",
    "    else:\n",
    "        return \"Invalid email format.\"\n",
    "    \n",
    "email = \"dain55788@gmail.com\"\n",
    "print(check_email(email))"
   ]
  },
  {
   "cell_type": "code",
   "execution_count": 5,
   "id": "5f45eee7",
   "metadata": {},
   "outputs": [
    {
     "name": "stdout",
     "output_type": "stream",
     "text": [
      "Plan : My 2024 plan is to accomplish all the Mathematics required for Data Analytics.\n",
      "Plan : Furthermore, Google Data Analyst Certificate is also my target to finish in this 2024.\n",
      "Plan : By saving up to 50 million VND this year, I am able to be financially independent to purchase a new motorbike.\n",
      "Plan : That's it, lets try my best!\n"
     ]
    }
   ],
   "source": [
    "# read file using re.search()\n",
    "import re\n",
    "fhand = open('R.EData.txt')\n",
    "for line in fhand:\n",
    "    line = line.rstrip()\n",
    "    if re.search('Plan : ', line):\n",
    "        print(line)"
   ]
  },
  {
   "cell_type": "code",
   "execution_count": 12,
   "id": "57f31424",
   "metadata": {},
   "outputs": [
    {
     "ename": "IndentationError",
     "evalue": "expected an indented block after 'for' statement on line 12 (999125605.py, line 14)",
     "output_type": "error",
     "traceback": [
      "\u001b[1;36m  Cell \u001b[1;32mIn[12], line 14\u001b[1;36m\u001b[0m\n\u001b[1;33m    print()\u001b[0m\n\u001b[1;37m           ^\u001b[0m\n\u001b[1;31mIndentationError\u001b[0m\u001b[1;31m:\u001b[0m expected an indented block after 'for' statement on line 12\n"
     ]
    }
   ],
   "source": [
    "# practice using re.findall()\n",
    "import re\n",
    "greeting = 'Hi guys, I am Dainy, I am currently 19, I have 2 certificates, I am currently learning 2 courses.'\n",
    "information = dict()\n",
    "information = {\n",
    "    'age' : '',\n",
    "    'certificates' : 0,\n",
    "    'number_of_courses' : 0,\n",
    "}\n",
    "y = re.findall('[0-9]+', greeting)\n",
    "for val in information.values():\n",
    "    for i in range(len(y)): \n",
    "        \n",
    "print()"
   ]
  },
  {
   "cell_type": "code",
   "execution_count": 15,
   "id": "2d830f5b",
   "metadata": {},
   "outputs": [
    {
     "name": "stdout",
     "output_type": "stream",
     "text": [
      "['19', '2', '2']\n",
      "['I', 'I', 'I', 'I']\n"
     ]
    }
   ],
   "source": [
    "greeting = 'Hi guys, I am Dainy, I am currently 19, I have 2 certificates, I am currently learning 2 courses.'\n",
    "information = dict()\n",
    "nums = re.findall('[0-9]+', greeting)\n",
    "print(nums)\n",
    "word = re.findall('[AEIOU]+', greeting) # looking for upper-case vowels in greeting\n",
    "print(word)"
   ]
  },
  {
   "cell_type": "code",
   "execution_count": 22,
   "id": "ceec4d45",
   "metadata": {},
   "outputs": [
    {
     "name": "stdout",
     "output_type": "stream",
     "text": [
      "['From : Using the :']\n"
     ]
    }
   ],
   "source": [
    "# The repeat character * and + (greedy) :\n",
    "import re\n",
    "words = 'From : Using the : character'\n",
    "word = re.findall('^F.+:', words)\n",
    "print(word)"
   ]
  },
  {
   "cell_type": "code",
   "execution_count": 24,
   "id": "b5ecf1c8",
   "metadata": {},
   "outputs": [
    {
     "name": "stdout",
     "output_type": "stream",
     "text": [
      "['From :']\n"
     ]
    }
   ],
   "source": [
    "# Repeat character but non-greedy:\n",
    "import re\n",
    "words = 'From : Using the : character'\n",
    "word = re.findall('^F.+?:', words)\n",
    "print(word)"
   ]
  },
  {
   "cell_type": "code",
   "execution_count": 35,
   "id": "ba25ce3f",
   "metadata": {},
   "outputs": [
    {
     "name": "stdout",
     "output_type": "stream",
     "text": [
      "['dain55788@gmail.com']\n",
      "14\n",
      "24\n",
      "gmail.com\n",
      "gmail.com\n",
      "['gmail.com']\n"
     ]
    }
   ],
   "source": [
    "# FINE-TUNING STRING EXTRACTION:\n",
    "data= 'From dain55788@gmail.com Sat Jan 5 09:18:23 2024'\n",
    "y = re.findall('\\S+@\\S+', data)\n",
    "print(y)\n",
    "# FIND HOST USING FIND() AND SLICING METHOD:\n",
    "atpos = data.find('@')\n",
    "print(atpos)\n",
    "sppos = data.find(' ', atpos)\n",
    "print(sppos)\n",
    "host = data[atpos+1 : sppos]\n",
    "print(host)\n",
    "\n",
    "# FIND HOST USING SPLIT():\n",
    "words = data.split(' ')\n",
    "email = words[1]\n",
    "host = email.split('@')\n",
    "print(host[1])\n",
    "\n",
    "# FIND HOST USING REGEX VERSION\n",
    "words = re.findall('@([^ ]*)', data)\n",
    "print(words)"
   ]
  },
  {
   "cell_type": "code",
   "execution_count": null,
   "id": "f1917b80",
   "metadata": {},
   "outputs": [],
   "source": [
    "# FIND MAXIMUM X-DSPAM-CONFIDENCE (practice) : \n",
    "import re\n",
    "fhand = open('mbox-short.txt')\n",
    "numlist = list()\n",
    "for line in fhand:\n",
    "    line = line.rstrip()\n",
    "    stuff = re.findall('X-DSPAM-CONFIDENCE: ([0-9.]+)', line)\n",
    "    if len(stuff) != 1 :\n",
    "        continue\n",
    "    num = float(stuff[0])\n",
    "    numlist.append(num)\n",
    "print('Maximum : ', max(numlist))"
   ]
  },
  {
   "cell_type": "code",
   "execution_count": 1,
   "id": "d4c6306d",
   "metadata": {},
   "outputs": [
    {
     "name": "stdout",
     "output_type": "stream",
     "text": [
      "Tong cac so tu file 'regularexpressiondata.txt' la: 482390\n"
     ]
    }
   ],
   "source": [
    "import re\n",
    "def extract_and_sum_numbers(file_path):\n",
    "    content = \"\"\n",
    "    with open(file_path, 'r') as file:\n",
    "        content = file.read()\n",
    "    numbers = re.findall(r'\\d+', content)\n",
    "    total_sum = sum(map(int, numbers))\n",
    "    return total_sum\n",
    "file_path = 'regularexpressiondata.txt'\n",
    "result = extract_and_sum_numbers(file_path)\n",
    "print(f\"Tong cac so tu file '{file_path}' la: {result}\")"
   ]
  },
  {
   "cell_type": "code",
   "execution_count": null,
   "id": "cb028792",
   "metadata": {},
   "outputs": [],
   "source": []
  }
 ],
 "metadata": {
  "kernelspec": {
   "display_name": "Python 3 (ipykernel)",
   "language": "python",
   "name": "python3"
  },
  "language_info": {
   "codemirror_mode": {
    "name": "ipython",
    "version": 3
   },
   "file_extension": ".py",
   "mimetype": "text/x-python",
   "name": "python",
   "nbconvert_exporter": "python",
   "pygments_lexer": "ipython3",
   "version": "3.11.5"
  },
  "vscode": {
   "interpreter": {
    "hash": "318f2c383d48220c821fefd227250c35bb828f95042f5889a5ad1704b1baf79c"
   }
  }
 },
 "nbformat": 4,
 "nbformat_minor": 5
}
